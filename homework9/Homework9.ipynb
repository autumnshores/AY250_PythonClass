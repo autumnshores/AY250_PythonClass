{
 "metadata": {
  "name": "Homework9"
 },
 "nbformat": 3,
 "nbformat_minor": 0,
 "worksheets": [
  {
   "cells": [
    {
     "cell_type": "heading",
     "level": 3,
     "metadata": {},
     "source": [
      "Serial Processing"
     ]
    },
    {
     "cell_type": "code",
     "collapsed": false,
     "input": [
      "from random import uniform\n",
      "from math import sqrt\n",
      "from time import time"
     ],
     "language": "python",
     "metadata": {},
     "outputs": [],
     "prompt_number": 12
    },
    {
     "cell_type": "code",
     "collapsed": false,
     "input": [
      "#generate number of darts from 10^1 to 10^7\n",
      "numdarts = [range(10,100), range(100,1000,10), range(1000,10000,100), range(10000,100000,1000), \n",
      "                range(100000,1000000,10000), range(1000000,10100000,100000)]\n",
      "\n",
      "#create darts array for plotting\n",
      "darts = []\n",
      "for i in numdarts:\n",
      "    for j in i:\n",
      "        darts.append(j)"
     ],
     "language": "python",
     "metadata": {},
     "outputs": [],
     "prompt_number": 14
    },
    {
     "cell_type": "code",
     "collapsed": false,
     "input": [
      "#execution time array for plotting\n",
      "extime_serial= []\n",
      "#simulation rate array for plotting\n",
      "simrate_serial = []\n",
      "count = 0\n",
      "\n",
      "#the simulation (provided in hw)\n",
      "for number_of_darts in darts:\n",
      "    number_of_darts_in_circle = 0\n",
      "\n",
      "    start_time = time()\n",
      "\n",
      "    for n in range(number_of_darts):\n",
      "        x,y = uniform(0,1), uniform(0,1)\n",
      "        if sqrt((x - 0.5)**2 + (y - 0.5)**2) <= 0.5:\n",
      "            number_of_darts_in_circle += 1\n",
      "\n",
      "    end_time = time()\n",
      "    execution_time = end_time - start_time\n",
      "    extime_serial.append(execution_time)\n",
      "    simrate_serial.append(number_of_darts/execution_time)\n",
      "\n",
      "    pi_approx = 4 *number_of_darts_in_circle / float(number_of_darts)\n",
      "    count += 1\n",
      "\n",
      "    #print \"Pi Approximation:\", pi_approx\n",
      "    #print \"Number of Darts:\", number_of_darts\n",
      "    print \"Execution Time (s):\", execution_time\n",
      "    #print \"Darts Thrown per Second:\", number_of_darts/execution_time\n",
      "    print \"Count:\", count"
     ],
     "language": "python",
     "metadata": {},
     "outputs": [
      {
       "output_type": "stream",
       "stream": "stdout",
       "text": [
        "Execution Time (s): 7.00950622559e-05\n",
        "Count: 1\n",
        "Execution Time (s): 3.91006469727e-05\n",
        "Count: 2\n",
        "Execution Time (s): 0.000427007675171\n",
        "Count: 3\n",
        "Execution Time (s): 8.01086425781e-05\n",
        "Count: 4\n",
        "Execution Time (s): 4.79221343994e-05\n",
        "Count: 5\n",
        "Execution Time (s): 4.91142272949e-05\n",
        "Count: 6\n",
        "Execution Time (s): 5.41210174561e-05\n",
        "Count: 7\n",
        "Execution Time (s): 7.08103179932e-05\n",
        "Count: 8\n",
        "Execution Time (s): 5.60283660889e-05\n",
        "Count: 9\n",
        "Execution Time (s): 6.19888305664e-05\n",
        "Count: 10\n",
        "Execution Time (s): 6.103515625e-05\n",
        "Count: 11\n",
        "Execution Time (s): 7.79628753662e-05\n",
        "Count: 12\n",
        "Execution Time (s): 8.08238983154e-05\n",
        "Count: 13\n",
        "Execution Time (s): 8.39233398438e-05\n",
        "Count: 14\n",
        "Execution Time (s): 8.79764556885e-05\n",
        "Count: 15\n",
        "Execution Time (s): 8.29696655273e-05\n",
        "Count: 16\n",
        "Execution Time (s): 8.79764556885e-05\n",
        "Count: 17\n",
        "Execution Time (s): 8.29696655273e-05\n",
        "Count: 18\n",
        "Execution Time (s): 0.000113010406494\n",
        "Count: 19\n",
        "Execution Time (s): 0.000113010406494\n",
        "Count: 20\n",
        "Execution Time (s): 0.000109195709229\n",
        "Count: 21\n",
        "Execution Time (s): 0.000113010406494\n",
        "Count: 22\n",
        "Execution Time (s): 0.000108957290649\n",
        "Count: 23\n",
        "Execution Time (s): 0.000106811523438\n",
        "Count: 24\n",
        "Execution Time (s): 0.000113010406494\n",
        "Count: 25\n",
        "Execution Time (s): 0.000119924545288\n",
        "Count: 26\n",
        "Execution Time (s): 0.000113010406494\n",
        "Count: 27\n",
        "Execution Time (s): 0.000109195709229\n",
        "Count: 28\n",
        "Execution Time (s): 0.000113964080811\n",
        "Count: 29\n",
        "Execution Time (s): 0.000144004821777\n",
        "Count: 30\n",
        "Execution Time (s): 0.000121116638184\n",
        "Count: 31\n",
        "Execution Time (s): 0.000119924545288\n",
        "Count: 32\n",
        "Execution Time (s): 0.000117063522339\n",
        "Count: 33\n",
        "Execution Time (s): 0.000138998031616\n",
        "Count: 34\n",
        "Execution Time (s): 0.000147819519043\n",
        "Count: 35\n",
        "Execution Time (s): 0.000147104263306\n",
        "Count: 36\n",
        "Execution Time (s): 0.000139951705933\n",
        "Count: 37\n",
        "Execution Time (s): 0.00014591217041\n",
        "Count: 38\n",
        "Execution Time (s): 0.000148057937622\n",
        "Count: 39\n",
        "Execution Time (s): 0.000151872634888\n",
        "Count: 40\n",
        "Execution Time (s): 0.000152826309204\n",
        "Count: 41\n",
        "Execution Time (s): 0.000158071517944\n",
        "Count: 42\n",
        "Execution Time (s): 0.000160932540894\n",
        "Count: 43\n",
        "Execution Time (s): 0.000165939331055\n",
        "Count: 44\n",
        "Execution Time (s): 0.000179052352905\n",
        "Count: 45\n",
        "Execution Time (s): 0.000169992446899\n",
        "Count: 46\n",
        "Execution Time (s): 0.000201940536499\n",
        "Count: 47\n",
        "Execution Time (s): 0.00022292137146\n",
        "Count: 48\n",
        "Execution Time (s): 0.000164031982422\n",
        "Count: 49\n",
        "Execution Time (s): 0.000203132629395\n",
        "Count: 50\n",
        "Execution Time (s): 0.00019907951355\n",
        "Count: 51\n",
        "Execution Time (s): 0.00020694732666\n",
        "Count: 52\n",
        "Execution Time (s): 0.000208139419556\n",
        "Count: 53\n",
        "Execution Time (s): 0.000230073928833\n",
        "Count: 54\n",
        "Execution Time (s): 0.000158071517944\n",
        "Count: 55\n",
        "Execution Time (s): 0.000157117843628\n",
        "Count: 56\n",
        "Execution Time (s): 0.000210046768188\n",
        "Count: 57\n",
        "Execution Time (s): 0.000231027603149\n",
        "Count: 58\n",
        "Execution Time (s): 0.000253915786743\n",
        "Count: 59\n",
        "Execution Time (s): 0.000222206115723\n",
        "Count: 60\n",
        "Execution Time (s): 0.000245094299316\n",
        "Count: 61\n",
        "Execution Time (s): 0.000236034393311\n",
        "Count: 62\n",
        "Execution Time (s): 0.000219106674194\n",
        "Count: 63\n",
        "Execution Time (s): 0.000250101089478\n",
        "Count: 64\n",
        "Execution Time (s): 0.000267028808594\n",
        "Count: 65\n",
        "Execution Time (s): 0.000262975692749\n",
        "Count: 66\n",
        "Execution Time (s): 0.00025200843811\n",
        "Count: 67\n",
        "Execution Time (s): 0.000262022018433\n",
        "Count: 68\n",
        "Execution Time (s): 0.000272035598755\n",
        "Count: 69\n",
        "Execution Time (s): 0.000248908996582\n",
        "Count: 70\n",
        "Execution Time (s): 0.000212907791138\n",
        "Count: 71\n",
        "Execution Time (s): 0.000272989273071\n",
        "Count: 72\n",
        "Execution Time (s): 0.000265121459961\n",
        "Count: 73\n",
        "Execution Time (s): 0.000248908996582\n",
        "Count: 74\n",
        "Execution Time (s): 0.000257015228271\n",
        "Count: 75\n",
        "Execution Time (s): 0.000262975692749\n",
        "Count: 76\n",
        "Execution Time (s): 0.000262975692749\n",
        "Count: 77\n",
        "Execution Time (s): 0.000272989273071\n",
        "Count: 78\n",
        "Execution Time (s): 0.000267028808594\n",
        "Count: 79\n",
        "Execution Time (s): 0.000294208526611\n",
        "Count: 80\n",
        "Execution Time (s): 0.000295877456665\n",
        "Count: 81\n",
        "Execution Time (s): 0.000247001647949\n",
        "Count: 82\n",
        "Execution Time (s): 0.000239849090576\n",
        "Count: 83\n",
        "Execution Time (s): 0.000811100006104\n",
        "Count: 84\n",
        "Execution Time (s): 0.000310897827148\n",
        "Count: 85\n",
        "Execution Time (s): 0.000272989273071\n",
        "Count: 86\n",
        "Execution Time (s): 0.00016713142395\n",
        "Count: 87\n",
        "Execution Time (s): 0.000173091888428\n",
        "Count: 88\n",
        "Execution Time (s): 0.000211954116821\n",
        "Count: 89\n",
        "Execution Time (s): 0.000315189361572\n",
        "Count: 90\n",
        "Execution Time (s): 0.000312089920044\n",
        "Count: 91\n",
        "Execution Time (s): 0.000334024429321\n",
        "Count: 92\n",
        "Execution Time (s): 0.000365972518921\n",
        "Count: 93\n",
        "Execution Time (s): 0.000401020050049\n",
        "Count: 94\n",
        "Execution Time (s): 0.000433921813965\n",
        "Count: 95\n",
        "Execution Time (s): 0.000372171401978\n",
        "Count: 96\n",
        "Execution Time (s): 0.000494956970215\n",
        "Count: 97\n",
        "Execution Time (s): 0.000288009643555\n",
        "Count: 98\n",
        "Execution Time (s): 0.000313997268677\n",
        "Count: 99\n",
        "Execution Time (s): 0.000319004058838\n",
        "Count: 100\n",
        "Execution Time (s): 0.000336170196533\n",
        "Count: 101\n",
        "Execution Time (s): 0.00035285949707\n",
        "Count: 102\n",
        "Execution Time (s): 0.000371217727661\n",
        "Count: 103\n",
        "Execution Time (s): 0.000386953353882\n",
        "Count: 104\n",
        "Execution Time (s): 0.000402927398682\n",
        "Count: 105\n",
        "Execution Time (s): 0.000449895858765\n",
        "Count: 106\n",
        "Execution Time (s): 0.00043797492981\n",
        "Count: 107\n",
        "Execution Time (s): 0.000552892684937\n",
        "Count: 108\n",
        "Execution Time (s): 0.000545024871826\n",
        "Count: 109\n",
        "Execution Time (s): 0.000485897064209\n",
        "Count: 110\n",
        "Execution Time (s): 0.000501871109009\n",
        "Count: 111\n",
        "Execution Time (s): 0.000519990921021\n",
        "Count: 112\n",
        "Execution Time (s): 0.000720024108887\n",
        "Count: 113\n",
        "Execution Time (s): 0.0010130405426\n",
        "Count: 114\n",
        "Execution Time (s): 0.000900030136108\n",
        "Count: 115\n",
        "Execution Time (s): 0.000597953796387\n",
        "Count: 116\n",
        "Execution Time (s): 0.000660181045532\n",
        "Count: 117\n",
        "Execution Time (s): 0.00049901008606\n",
        "Count: 118\n",
        "Execution Time (s): 0.000514984130859\n",
        "Count: 119\n",
        "Execution Time (s): 0.000527858734131\n",
        "Count: 120\n",
        "Execution Time (s): 0.00125789642334\n",
        "Count: 121\n",
        "Execution Time (s): 0.00134301185608\n",
        "Count: 122\n",
        "Execution Time (s): 0.00131797790527\n",
        "Count: 123\n",
        "Execution Time (s): 0.00115513801575\n",
        "Count: 124\n",
        "Execution Time (s): 0.000754833221436\n",
        "Count: 125\n",
        "Execution Time (s): 0.000768184661865\n",
        "Count: 126\n",
        "Execution Time (s): 0.00141406059265\n",
        "Count: 127\n",
        "Execution Time (s): 0.00149297714233\n",
        "Count: 128\n",
        "Execution Time (s):"
       ]
      },
      {
       "output_type": "stream",
       "stream": "stdout",
       "text": [
        " 0.00149297714233\n",
        "Count: 129\n",
        "Execution Time (s): 0.0010781288147\n",
        "Count: 130\n",
        "Execution Time (s): 0.000847816467285\n",
        "Count: 131\n",
        "Execution Time (s): 0.000930786132812\n",
        "Count: 132\n",
        "Execution Time (s): 0.000879049301147\n",
        "Count: 133\n",
        "Execution Time (s): 0.000951051712036\n",
        "Count: 134\n",
        "Execution Time (s): 0.0017671585083\n",
        "Count: 135\n",
        "Execution Time (s): 0.000988960266113\n",
        "Count: 136\n",
        "Execution Time (s): 0.00115203857422\n",
        "Count: 137\n",
        "Execution Time (s): 0.00148320198059\n",
        "Count: 138\n",
        "Execution Time (s): 0.00102710723877\n",
        "Count: 139\n",
        "Execution Time (s): 0.00108909606934\n",
        "Count: 140\n",
        "Execution Time (s): 0.0010199546814\n",
        "Count: 141\n",
        "Execution Time (s): 0.00103616714478\n",
        "Count: 142\n",
        "Execution Time (s): 0.00112318992615\n",
        "Count: 143\n",
        "Execution Time (s): 0.0010678768158\n",
        "Count: 144\n",
        "Execution Time (s): 0.00108098983765\n",
        "Count: 145\n",
        "Execution Time (s): 0.0011510848999\n",
        "Count: 146\n",
        "Execution Time (s): 0.00114297866821\n",
        "Count: 147\n",
        "Execution Time (s): 0.00130915641785\n",
        "Count: 148\n",
        "Execution Time (s): 0.00147914886475\n",
        "Count: 149\n",
        "Execution Time (s): 0.00203204154968\n",
        "Count: 150\n",
        "Execution Time (s): 0.00200390815735\n",
        "Count: 151\n",
        "Execution Time (s): 0.00203204154968\n",
        "Count: 152\n",
        "Execution Time (s): 0.00205397605896\n",
        "Count: 153\n",
        "Execution Time (s): 0.00158309936523\n",
        "Count: 154\n",
        "Execution Time (s): 0.00140309333801\n",
        "Count: 155\n",
        "Execution Time (s): 0.00146794319153\n",
        "Count: 156\n",
        "Execution Time (s): 0.00245499610901\n",
        "Count: 157\n",
        "Execution Time (s): 0.00237989425659\n",
        "Count: 158\n",
        "Execution Time (s): 0.00238299369812\n",
        "Count: 159\n",
        "Execution Time (s): 0.0024471282959\n",
        "Count: 160\n",
        "Execution Time (s): 0.00246596336365\n",
        "Count: 161\n",
        "Execution Time (s):"
       ]
      },
      {
       "output_type": "stream",
       "stream": "stdout",
       "text": [
        " 0.00167393684387\n",
        "Count: 162\n",
        "Execution Time (s): 0.00265979766846\n",
        "Count: 163\n",
        "Execution Time (s): 0.00246500968933\n",
        "Count: 164\n",
        "Execution Time (s): 0.00249814987183\n",
        "Count: 165\n",
        "Execution Time (s): 0.00180196762085\n",
        "Count: 166\n",
        "Execution Time (s): 0.00171780586243\n",
        "Count: 167\n",
        "Execution Time (s): 0.00152897834778\n",
        "Count: 168\n",
        "Execution Time (s): 0.00150203704834\n",
        "Count: 169\n",
        "Execution Time (s): 0.00153493881226\n",
        "Count: 170\n",
        "Execution Time (s): 0.00171589851379\n",
        "Count: 171\n",
        "Execution Time (s): 0.0015561580658\n",
        "Count: 172\n",
        "Execution Time (s): 0.00158214569092\n",
        "Count: 173\n",
        "Execution Time (s): 0.00211691856384\n",
        "Count: 174\n",
        "Execution Time (s): 0.0020010471344\n",
        "Count: 175\n",
        "Execution Time (s): 0.00176596641541\n",
        "Count: 176\n",
        "Execution Time (s): 0.00184988975525\n",
        "Count: 177\n",
        "Execution Time (s): 0.00165104866028\n",
        "Count: 178\n",
        "Execution Time (s): 0.00187397003174\n",
        "Count: 179\n",
        "Execution Time (s): 0.00236201286316\n",
        "Count: 180\n",
        "Execution Time (s): 0.0023090839386\n",
        "Count: 181\n",
        "Execution Time (s): 0.00231099128723\n",
        "Count: 182\n",
        "Execution Time (s): 0.0020899772644\n",
        "Count: 183\n",
        "Execution Time (s): 0.00222611427307\n",
        "Count: 184\n",
        "Execution Time (s): 0.00238513946533\n",
        "Count: 185\n",
        "Execution Time (s): 0.00263595581055\n",
        "Count: 186\n",
        "Execution Time (s):"
       ]
      },
      {
       "output_type": "stream",
       "stream": "stdout",
       "text": [
        " 0.00314688682556\n",
        "Count: 187\n",
        "Execution Time (s): 0.00562500953674\n",
        "Count: 188\n",
        "Execution Time (s): 0.00412392616272\n",
        "Count: 189\n",
        "Execution Time (s): 0.00346398353577\n",
        "Count: 190\n",
        "Execution Time (s): 0.00348114967346\n",
        "Count: 191\n",
        "Execution Time (s): 0.00361013412476\n",
        "Count: 192\n",
        "Execution Time (s): 0.00395703315735\n",
        "Count: 193\n",
        "Execution Time (s): 0.00534510612488\n",
        "Count: 194\n",
        "Execution Time (s): 0.0067400932312\n",
        "Count: 195\n",
        "Execution Time (s): 0.00448703765869\n",
        "Count: 196\n",
        "Execution Time (s): 0.00446581840515\n",
        "Count: 197\n",
        "Execution Time (s):"
       ]
      },
      {
       "output_type": "stream",
       "stream": "stdout",
       "text": [
        " 0.00498604774475\n",
        "Count: 198\n",
        "Execution Time (s): 0.00550007820129\n",
        "Count: 199\n",
        "Execution Time (s): 0.00801301002502\n",
        "Count: 200\n",
        "Execution Time (s): 0.00897312164307\n",
        "Count: 201\n",
        "Execution Time (s): 0.00711607933044\n",
        "Count: 202\n",
        "Execution Time (s): 0.00669503211975\n",
        "Count: 203\n",
        "Execution Time (s): 0.00598382949829\n",
        "Count: 204\n",
        "Execution Time (s): 0.0060031414032\n",
        "Count: 205\n",
        "Execution Time (s):"
       ]
      },
      {
       "output_type": "stream",
       "stream": "stdout",
       "text": [
        " 0.00649285316467\n",
        "Count: 206\n",
        "Execution Time (s): 0.0104529857635\n",
        "Count: 207\n",
        "Execution Time (s): 0.00832891464233\n",
        "Count: 208\n",
        "Execution Time (s): 0.00880408287048\n",
        "Count: 209\n",
        "Execution Time (s): 0.00680613517761\n",
        "Count: 210\n",
        "Execution Time (s): 0.00876092910767\n",
        "Count: 211\n",
        "Execution Time (s):"
       ]
      },
      {
       "output_type": "stream",
       "stream": "stdout",
       "text": [
        " 0.00748300552368\n",
        "Count: 212\n",
        "Execution Time (s): 0.00824213027954\n",
        "Count: 213\n",
        "Execution Time (s): 0.00878190994263\n",
        "Count: 214\n",
        "Execution Time (s): 0.00914311408997\n",
        "Count: 215\n",
        "Execution Time (s): 0.0105500221252\n",
        "Count: 216\n",
        "Execution Time (s): 0.00762915611267\n",
        "Count: 217\n",
        "Execution Time (s):"
       ]
      },
      {
       "output_type": "stream",
       "stream": "stdout",
       "text": [
        " 0.00684499740601\n",
        "Count: 218\n",
        "Execution Time (s): 0.00885987281799\n",
        "Count: 219\n",
        "Execution Time (s): 0.00859308242798\n",
        "Count: 220\n",
        "Execution Time (s): 0.00865006446838\n",
        "Count: 221\n",
        "Execution Time (s): 0.0110819339752\n",
        "Count: 222\n",
        "Execution Time (s): 0.0101759433746\n",
        "Count: 223\n",
        "Execution Time (s):"
       ]
      },
      {
       "output_type": "stream",
       "stream": "stdout",
       "text": [
        " 0.00994992256165\n",
        "Count: 224\n",
        "Execution Time (s): 0.0129909515381\n",
        "Count: 225\n",
        "Execution Time (s): 0.00911593437195\n",
        "Count: 226\n",
        "Execution Time (s): 0.00879597663879\n",
        "Count: 227\n",
        "Execution Time (s): 0.00767517089844\n",
        "Count: 228\n",
        "Execution Time (s): 0.00959300994873\n",
        "Count: 229\n",
        "Execution Time (s):"
       ]
      },
      {
       "output_type": "stream",
       "stream": "stdout",
       "text": [
        " 0.00845694541931\n",
        "Count: 230\n",
        "Execution Time (s): 0.0104999542236\n",
        "Count: 231\n",
        "Execution Time (s): 0.011714220047\n",
        "Count: 232\n",
        "Execution Time (s): 0.014673948288\n",
        "Count: 233\n",
        "Execution Time (s):"
       ]
      },
      {
       "output_type": "stream",
       "stream": "stdout",
       "text": [
        " 0.0132279396057\n",
        "Count: 234\n",
        "Execution Time (s): 0.0129179954529\n",
        "Count: 235\n",
        "Execution Time (s): 0.0109488964081\n",
        "Count: 236\n",
        "Execution Time (s): 0.0114221572876\n",
        "Count: 237\n",
        "Execution Time (s): 0.00975108146667\n",
        "Count: 238\n",
        "Execution Time (s):"
       ]
      },
      {
       "output_type": "stream",
       "stream": "stdout",
       "text": [
        " 0.0091540813446\n",
        "Count: 239\n",
        "Execution Time (s): 0.0231962203979\n",
        "Count: 240\n",
        "Execution Time (s): 0.0156450271606\n",
        "Count: 241\n",
        "Execution Time (s):"
       ]
      },
      {
       "output_type": "stream",
       "stream": "stdout",
       "text": [
        " 0.0119500160217\n",
        "Count: 242\n",
        "Execution Time (s): 0.0151598453522\n",
        "Count: 243\n",
        "Execution Time (s): 0.017923116684\n",
        "Count: 244\n",
        "Execution Time (s):"
       ]
      },
      {
       "output_type": "stream",
       "stream": "stdout",
       "text": [
        " 0.017110824585\n",
        "Count: 245\n",
        "Execution Time (s): 0.0137338638306\n",
        "Count: 246\n",
        "Execution Time (s): 0.013738155365\n",
        "Count: 247\n",
        "Execution Time (s): 0.0112588405609\n",
        "Count: 248\n",
        "Execution Time (s):"
       ]
      },
      {
       "output_type": "stream",
       "stream": "stdout",
       "text": [
        " 0.0119388103485\n",
        "Count: 249\n",
        "Execution Time (s): 0.0178229808807\n",
        "Count: 250\n",
        "Execution Time (s): 0.0111930370331\n",
        "Count: 251\n",
        "Execution Time (s): 0.0112760066986\n",
        "Count: 252\n",
        "Execution Time (s):"
       ]
      },
      {
       "output_type": "stream",
       "stream": "stdout",
       "text": [
        " 0.0123319625854\n",
        "Count: 253\n",
        "Execution Time (s): 0.0160398483276\n",
        "Count: 254\n",
        "Execution Time (s): 0.0151541233063\n",
        "Count: 255\n",
        "Execution Time (s): 0.0129117965698\n",
        "Count: 256\n",
        "Execution Time (s):"
       ]
      },
      {
       "output_type": "stream",
       "stream": "stdout",
       "text": [
        " 0.0126969814301\n",
        "Count: 257\n",
        "Execution Time (s): 0.0187299251556\n",
        "Count: 258\n",
        "Execution Time (s): 0.0144050121307\n",
        "Count: 259\n",
        "Execution Time (s): 0.0117650032043\n",
        "Count: 260\n",
        "Execution Time (s):"
       ]
      },
      {
       "output_type": "stream",
       "stream": "stdout",
       "text": [
        " 0.0122900009155\n",
        "Count: 261\n",
        "Execution Time (s): 0.015410900116\n",
        "Count: 262\n",
        "Execution Time (s): 0.0126798152924\n",
        "Count: 263\n",
        "Execution Time (s): 0.0145511627197\n",
        "Count: 264\n",
        "Execution Time (s):"
       ]
      },
      {
       "output_type": "stream",
       "stream": "stdout",
       "text": [
        " 0.0138020515442\n",
        "Count: 265\n",
        "Execution Time (s): 0.0193099975586\n",
        "Count: 266\n",
        "Execution Time (s): 0.0152781009674\n",
        "Count: 267\n",
        "Execution Time (s): 0.0129668712616\n",
        "Count: 268\n",
        "Execution Time (s):"
       ]
      },
      {
       "output_type": "stream",
       "stream": "stdout",
       "text": [
        " 0.0156328678131\n",
        "Count: 269\n",
        "Execution Time (s): 0.0173721313477\n",
        "Count: 270\n",
        "Execution Time (s): 0.0134949684143\n",
        "Count: 271\n",
        "Execution Time (s): 0.0159819126129\n",
        "Count: 272\n",
        "Execution Time (s):"
       ]
      },
      {
       "output_type": "stream",
       "stream": "stdout",
       "text": [
        " 0.0165300369263\n",
        "Count: 273\n",
        "Execution Time (s): 0.026703119278\n",
        "Count: 274\n",
        "Execution Time (s): 0.0201659202576\n",
        "Count: 275\n",
        "Execution Time (s):"
       ]
      },
      {
       "output_type": "stream",
       "stream": "stdout",
       "text": [
        " 0.0238029956818\n",
        "Count: 276\n",
        "Execution Time (s): 0.0390269756317\n",
        "Count: 277\n",
        "Execution Time (s):"
       ]
      },
      {
       "output_type": "stream",
       "stream": "stdout",
       "text": [
        " 0.0282580852509\n",
        "Count: 278\n",
        "Execution Time (s): 0.0396299362183\n",
        "Count: 279\n",
        "Execution Time (s):"
       ]
      },
      {
       "output_type": "stream",
       "stream": "stdout",
       "text": [
        " 0.0385279655457\n",
        "Count: 280\n",
        "Execution Time (s):"
       ]
      },
      {
       "output_type": "stream",
       "stream": "stdout",
       "text": [
        " 0.0569729804993\n",
        "Count: 281\n",
        "Execution Time (s): 0.0496520996094\n",
        "Count: 282\n",
        "Execution Time (s):"
       ]
      },
      {
       "output_type": "stream",
       "stream": "stdout",
       "text": [
        " 0.0401749610901\n",
        "Count: 283\n",
        "Execution Time (s):"
       ]
      },
      {
       "output_type": "stream",
       "stream": "stdout",
       "text": [
        " 0.0500998497009\n",
        "Count: 284\n",
        "Execution Time (s): 0.0472619533539\n",
        "Count: 285\n",
        "Execution Time (s):"
       ]
      },
      {
       "output_type": "stream",
       "stream": "stdout",
       "text": [
        " 0.0365469455719\n",
        "Count: 286\n",
        "Execution Time (s): 0.0480210781097\n",
        "Count: 287\n",
        "Execution Time (s):"
       ]
      },
      {
       "output_type": "stream",
       "stream": "stdout",
       "text": [
        " 0.0394678115845\n",
        "Count: 288\n",
        "Execution Time (s):"
       ]
      },
      {
       "output_type": "stream",
       "stream": "stdout",
       "text": [
        " 0.0503900051117\n",
        "Count: 289\n",
        "Execution Time (s):"
       ]
      },
      {
       "output_type": "stream",
       "stream": "stdout",
       "text": [
        " 0.0600759983063\n",
        "Count: 290\n",
        "Execution Time (s): 0.0479619503021\n",
        "Count: 291\n",
        "Execution Time (s):"
       ]
      },
      {
       "output_type": "stream",
       "stream": "stdout",
       "text": [
        " 0.0433261394501\n",
        "Count: 292\n",
        "Execution Time (s):"
       ]
      },
      {
       "output_type": "stream",
       "stream": "stdout",
       "text": [
        " 0.0619080066681\n",
        "Count: 293\n",
        "Execution Time (s):"
       ]
      },
      {
       "output_type": "stream",
       "stream": "stdout",
       "text": [
        " 0.0617430210114\n",
        "Count: 294\n",
        "Execution Time (s):"
       ]
      },
      {
       "output_type": "stream",
       "stream": "stdout",
       "text": [
        " 0.0688669681549\n",
        "Count: 295\n",
        "Execution Time (s):"
       ]
      },
      {
       "output_type": "stream",
       "stream": "stdout",
       "text": [
        " 0.0688121318817\n",
        "Count: 296\n",
        "Execution Time (s):"
       ]
      },
      {
       "output_type": "stream",
       "stream": "stdout",
       "text": [
        " 0.0823490619659\n",
        "Count: 297\n",
        "Execution Time (s):"
       ]
      },
      {
       "output_type": "stream",
       "stream": "stdout",
       "text": [
        " 0.107913970947\n",
        "Count: 298\n",
        "Execution Time (s):"
       ]
      },
      {
       "output_type": "stream",
       "stream": "stdout",
       "text": [
        " 0.069983959198\n",
        "Count: 299\n",
        "Execution Time (s):"
       ]
      },
      {
       "output_type": "stream",
       "stream": "stdout",
       "text": [
        " 0.0716679096222\n",
        "Count: 300\n",
        "Execution Time (s):"
       ]
      },
      {
       "output_type": "stream",
       "stream": "stdout",
       "text": [
        " 0.0959618091583\n",
        "Count: 301\n",
        "Execution Time (s):"
       ]
      },
      {
       "output_type": "stream",
       "stream": "stdout",
       "text": [
        " 0.0864360332489\n",
        "Count: 302\n",
        "Execution Time (s):"
       ]
      },
      {
       "output_type": "stream",
       "stream": "stdout",
       "text": [
        " 0.0766000747681\n",
        "Count: 303\n",
        "Execution Time (s):"
       ]
      },
      {
       "output_type": "stream",
       "stream": "stdout",
       "text": [
        " 0.0855641365051\n",
        "Count: 304\n",
        "Execution Time (s):"
       ]
      },
      {
       "output_type": "stream",
       "stream": "stdout",
       "text": [
        " 0.0966939926147\n",
        "Count: 305\n",
        "Execution Time (s):"
       ]
      },
      {
       "output_type": "stream",
       "stream": "stdout",
       "text": [
        " 0.0899038314819\n",
        "Count: 306\n",
        "Execution Time (s):"
       ]
      },
      {
       "output_type": "stream",
       "stream": "stdout",
       "text": [
        " 0.099328994751\n",
        "Count: 307\n",
        "Execution Time (s):"
       ]
      },
      {
       "output_type": "stream",
       "stream": "stdout",
       "text": [
        " 0.128499031067\n",
        "Count: 308\n",
        "Execution Time (s):"
       ]
      },
      {
       "output_type": "stream",
       "stream": "stdout",
       "text": [
        " 0.0947670936584\n",
        "Count: 309\n",
        "Execution Time (s):"
       ]
      },
      {
       "output_type": "stream",
       "stream": "stdout",
       "text": [
        " 0.0941457748413\n",
        "Count: 310\n",
        "Execution Time (s):"
       ]
      },
      {
       "output_type": "stream",
       "stream": "stdout",
       "text": [
        " 0.0965220928192\n",
        "Count: 311\n",
        "Execution Time (s):"
       ]
      },
      {
       "output_type": "stream",
       "stream": "stdout",
       "text": [
        " 0.100855827332\n",
        "Count: 312\n",
        "Execution Time (s):"
       ]
      },
      {
       "output_type": "stream",
       "stream": "stdout",
       "text": [
        " 0.101007938385\n",
        "Count: 313\n",
        "Execution Time (s):"
       ]
      },
      {
       "output_type": "stream",
       "stream": "stdout",
       "text": [
        " 0.107434034348\n",
        "Count: 314\n",
        "Execution Time (s):"
       ]
      },
      {
       "output_type": "stream",
       "stream": "stdout",
       "text": [
        " 0.12924695015\n",
        "Count: 315\n",
        "Execution Time (s):"
       ]
      },
      {
       "output_type": "stream",
       "stream": "stdout",
       "text": [
        " 0.101657867432\n",
        "Count: 316\n",
        "Execution Time (s):"
       ]
      },
      {
       "output_type": "stream",
       "stream": "stdout",
       "text": [
        " 0.127267837524\n",
        "Count: 317\n",
        "Execution Time (s):"
       ]
      },
      {
       "output_type": "stream",
       "stream": "stdout",
       "text": [
        " 0.120038986206\n",
        "Count: 318\n",
        "Execution Time (s):"
       ]
      },
      {
       "output_type": "stream",
       "stream": "stdout",
       "text": [
        " 0.119563102722\n",
        "Count: 319\n",
        "Execution Time (s):"
       ]
      },
      {
       "output_type": "stream",
       "stream": "stdout",
       "text": [
        " 0.123281002045\n",
        "Count: 320\n",
        "Execution Time (s):"
       ]
      },
      {
       "output_type": "stream",
       "stream": "stdout",
       "text": [
        " 0.121579170227\n",
        "Count: 321\n",
        "Execution Time (s):"
       ]
      },
      {
       "output_type": "stream",
       "stream": "stdout",
       "text": [
        " 0.143177032471\n",
        "Count: 322\n",
        "Execution Time (s):"
       ]
      },
      {
       "output_type": "stream",
       "stream": "stdout",
       "text": [
        " 0.118885993958\n",
        "Count: 323\n",
        "Execution Time (s):"
       ]
      },
      {
       "output_type": "stream",
       "stream": "stdout",
       "text": [
        " 0.131042003632\n",
        "Count: 324\n",
        "Execution Time (s):"
       ]
      },
      {
       "output_type": "stream",
       "stream": "stdout",
       "text": [
        " 0.146490097046\n",
        "Count: 325\n",
        "Execution Time (s):"
       ]
      },
      {
       "output_type": "stream",
       "stream": "stdout",
       "text": [
        " 0.0988059043884\n",
        "Count: 326\n",
        "Execution Time (s):"
       ]
      },
      {
       "output_type": "stream",
       "stream": "stdout",
       "text": [
        " 0.106509923935\n",
        "Count: 327\n",
        "Execution Time (s):"
       ]
      },
      {
       "output_type": "stream",
       "stream": "stdout",
       "text": [
        " 0.102766990662\n",
        "Count: 328\n",
        "Execution Time (s):"
       ]
      },
      {
       "output_type": "stream",
       "stream": "stdout",
       "text": [
        " 0.104748010635\n",
        "Count: 329\n",
        "Execution Time (s):"
       ]
      },
      {
       "output_type": "stream",
       "stream": "stdout",
       "text": [
        " 0.10758805275\n",
        "Count: 330\n",
        "Execution Time (s):"
       ]
      },
      {
       "output_type": "stream",
       "stream": "stdout",
       "text": [
        " 0.111367940903\n",
        "Count: 331\n",
        "Execution Time (s):"
       ]
      },
      {
       "output_type": "stream",
       "stream": "stdout",
       "text": [
        " 0.113760232925\n",
        "Count: 332\n",
        "Execution Time (s):"
       ]
      },
      {
       "output_type": "stream",
       "stream": "stdout",
       "text": [
        " 0.111967086792\n",
        "Count: 333\n",
        "Execution Time (s):"
       ]
      },
      {
       "output_type": "stream",
       "stream": "stdout",
       "text": [
        " 0.0993359088898\n",
        "Count: 334\n",
        "Execution Time (s):"
       ]
      },
      {
       "output_type": "stream",
       "stream": "stdout",
       "text": [
        " 0.132253885269\n",
        "Count: 335\n",
        "Execution Time (s):"
       ]
      },
      {
       "output_type": "stream",
       "stream": "stdout",
       "text": [
        " 0.116473197937\n",
        "Count: 336\n",
        "Execution Time (s):"
       ]
      },
      {
       "output_type": "stream",
       "stream": "stdout",
       "text": [
        " 0.112766981125\n",
        "Count: 337\n",
        "Execution Time (s):"
       ]
      },
      {
       "output_type": "stream",
       "stream": "stdout",
       "text": [
        " 0.126728057861\n",
        "Count: 338\n",
        "Execution Time (s):"
       ]
      },
      {
       "output_type": "stream",
       "stream": "stdout",
       "text": [
        " 0.118382930756\n",
        "Count: 339\n",
        "Execution Time (s):"
       ]
      },
      {
       "output_type": "stream",
       "stream": "stdout",
       "text": [
        " 0.132560014725\n",
        "Count: 340\n",
        "Execution Time (s):"
       ]
      },
      {
       "output_type": "stream",
       "stream": "stdout",
       "text": [
        " 0.112613916397\n",
        "Count: 341\n",
        "Execution Time (s):"
       ]
      },
      {
       "output_type": "stream",
       "stream": "stdout",
       "text": [
        " 0.122370004654\n",
        "Count: 342\n",
        "Execution Time (s):"
       ]
      },
      {
       "output_type": "stream",
       "stream": "stdout",
       "text": [
        " 0.121246814728\n",
        "Count: 343\n",
        "Execution Time (s):"
       ]
      },
      {
       "output_type": "stream",
       "stream": "stdout",
       "text": [
        " 0.183490037918\n",
        "Count: 344\n",
        "Execution Time (s):"
       ]
      },
      {
       "output_type": "stream",
       "stream": "stdout",
       "text": [
        " 0.146646976471\n",
        "Count: 345\n",
        "Execution Time (s):"
       ]
      },
      {
       "output_type": "stream",
       "stream": "stdout",
       "text": [
        " 0.117241859436\n",
        "Count: 346\n",
        "Execution Time (s):"
       ]
      },
      {
       "output_type": "stream",
       "stream": "stdout",
       "text": [
        " 0.173635959625\n",
        "Count: 347\n",
        "Execution Time (s):"
       ]
      },
      {
       "output_type": "stream",
       "stream": "stdout",
       "text": [
        " 0.161661863327\n",
        "Count: 348\n",
        "Execution Time (s):"
       ]
      },
      {
       "output_type": "stream",
       "stream": "stdout",
       "text": [
        " 0.16718506813\n",
        "Count: 349\n",
        "Execution Time (s):"
       ]
      },
      {
       "output_type": "stream",
       "stream": "stdout",
       "text": [
        " 0.180249214172\n",
        "Count: 350\n",
        "Execution Time (s):"
       ]
      },
      {
       "output_type": "stream",
       "stream": "stdout",
       "text": [
        " 0.142879962921\n",
        "Count: 351\n",
        "Execution Time (s):"
       ]
      },
      {
       "output_type": "stream",
       "stream": "stdout",
       "text": [
        " 0.171705007553\n",
        "Count: 352\n",
        "Execution Time (s):"
       ]
      },
      {
       "output_type": "stream",
       "stream": "stdout",
       "text": [
        " 0.165941953659\n",
        "Count: 353\n",
        "Execution Time (s):"
       ]
      },
      {
       "output_type": "stream",
       "stream": "stdout",
       "text": [
        " 0.142174959183\n",
        "Count: 354\n",
        "Execution Time (s):"
       ]
      },
      {
       "output_type": "stream",
       "stream": "stdout",
       "text": [
        " 0.149439096451\n",
        "Count: 355\n",
        "Execution Time (s):"
       ]
      },
      {
       "output_type": "stream",
       "stream": "stdout",
       "text": [
        " 0.140822887421\n",
        "Count: 356\n",
        "Execution Time (s):"
       ]
      },
      {
       "output_type": "stream",
       "stream": "stdout",
       "text": [
        " 0.179972887039\n",
        "Count: 357\n",
        "Execution Time (s):"
       ]
      },
      {
       "output_type": "stream",
       "stream": "stdout",
       "text": [
        " 0.188834905624\n",
        "Count: 358\n",
        "Execution Time (s):"
       ]
      },
      {
       "output_type": "stream",
       "stream": "stdout",
       "text": [
        " 0.154580116272\n",
        "Count: 359\n",
        "Execution Time (s):"
       ]
      },
      {
       "output_type": "stream",
       "stream": "stdout",
       "text": [
        " 0.195790052414\n",
        "Count: 360\n",
        "Execution Time (s):"
       ]
      },
      {
       "output_type": "stream",
       "stream": "stdout",
       "text": [
        " 0.165441989899\n",
        "Count: 361\n",
        "Execution Time (s):"
       ]
      },
      {
       "output_type": "stream",
       "stream": "stdout",
       "text": [
        " 0.168143033981\n",
        "Count: 362\n",
        "Execution Time (s):"
       ]
      },
      {
       "output_type": "stream",
       "stream": "stdout",
       "text": [
        " 0.175395011902\n",
        "Count: 363\n",
        "Execution Time (s):"
       ]
      },
      {
       "output_type": "stream",
       "stream": "stdout",
       "text": [
        " 0.197630882263\n",
        "Count: 364\n",
        "Execution Time (s):"
       ]
      },
      {
       "output_type": "stream",
       "stream": "stdout",
       "text": [
        " 0.232511043549\n",
        "Count: 365\n",
        "Execution Time (s):"
       ]
      },
      {
       "output_type": "stream",
       "stream": "stdout",
       "text": [
        " 0.278903961182\n",
        "Count: 366\n",
        "Execution Time (s):"
       ]
      },
      {
       "output_type": "stream",
       "stream": "stdout",
       "text": [
        " 0.260901927948\n",
        "Count: 367\n",
        "Execution Time (s):"
       ]
      },
      {
       "output_type": "stream",
       "stream": "stdout",
       "text": [
        " 0.25887298584\n",
        "Count: 368\n",
        "Execution Time (s):"
       ]
      },
      {
       "output_type": "stream",
       "stream": "stdout",
       "text": [
        " 0.261241197586\n",
        "Count: 369\n",
        "Execution Time (s):"
       ]
      },
      {
       "output_type": "stream",
       "stream": "stdout",
       "text": [
        " 0.303010940552\n",
        "Count: 370\n",
        "Execution Time (s):"
       ]
      },
      {
       "output_type": "stream",
       "stream": "stdout",
       "text": [
        " 0.323481082916\n",
        "Count: 371\n",
        "Execution Time (s):"
       ]
      },
      {
       "output_type": "stream",
       "stream": "stdout",
       "text": [
        " 0.307191133499\n",
        "Count: 372\n",
        "Execution Time (s):"
       ]
      },
      {
       "output_type": "stream",
       "stream": "stdout",
       "text": [
        " 0.344849824905\n",
        "Count: 373\n",
        "Execution Time (s):"
       ]
      },
      {
       "output_type": "stream",
       "stream": "stdout",
       "text": [
        " 0.346835136414\n",
        "Count: 374\n",
        "Execution Time (s):"
       ]
      },
      {
       "output_type": "stream",
       "stream": "stdout",
       "text": [
        " 0.363111972809\n",
        "Count: 375\n",
        "Execution Time (s):"
       ]
      },
      {
       "output_type": "stream",
       "stream": "stdout",
       "text": [
        " 0.380350112915\n",
        "Count: 376\n",
        "Execution Time (s):"
       ]
      },
      {
       "output_type": "stream",
       "stream": "stdout",
       "text": [
        " 0.39764213562\n",
        "Count: 377\n",
        "Execution Time (s):"
       ]
      },
      {
       "output_type": "stream",
       "stream": "stdout",
       "text": [
        " 0.417236089706\n",
        "Count: 378\n",
        "Execution Time (s):"
       ]
      },
      {
       "output_type": "stream",
       "stream": "stdout",
       "text": [
        " 0.416738033295\n",
        "Count: 379\n",
        "Execution Time (s):"
       ]
      },
      {
       "output_type": "stream",
       "stream": "stdout",
       "text": [
        " 0.420649051666\n",
        "Count: 380\n",
        "Execution Time (s):"
       ]
      },
      {
       "output_type": "stream",
       "stream": "stdout",
       "text": [
        " 0.45037817955\n",
        "Count: 381\n",
        "Execution Time (s):"
       ]
      },
      {
       "output_type": "stream",
       "stream": "stdout",
       "text": [
        " 0.499300956726\n",
        "Count: 382\n",
        "Execution Time (s):"
       ]
      },
      {
       "output_type": "stream",
       "stream": "stdout",
       "text": [
        " 0.486374139786\n",
        "Count: 383\n",
        "Execution Time (s):"
       ]
      },
      {
       "output_type": "stream",
       "stream": "stdout",
       "text": [
        " 0.489583969116\n",
        "Count: 384\n",
        "Execution Time (s):"
       ]
      },
      {
       "output_type": "stream",
       "stream": "stdout",
       "text": [
        " 0.499172210693\n",
        "Count: 385\n",
        "Execution Time (s):"
       ]
      },
      {
       "output_type": "stream",
       "stream": "stdout",
       "text": [
        " 0.536576986313\n",
        "Count: 386\n",
        "Execution Time (s):"
       ]
      },
      {
       "output_type": "stream",
       "stream": "stdout",
       "text": [
        " 0.560533046722\n",
        "Count: 387\n",
        "Execution Time (s):"
       ]
      },
      {
       "output_type": "stream",
       "stream": "stdout",
       "text": [
        " 0.575086832047\n",
        "Count: 388\n",
        "Execution Time (s):"
       ]
      },
      {
       "output_type": "stream",
       "stream": "stdout",
       "text": [
        " 0.616585969925\n",
        "Count: 389\n",
        "Execution Time (s):"
       ]
      },
      {
       "output_type": "stream",
       "stream": "stdout",
       "text": [
        " 0.609287023544\n",
        "Count: 390\n",
        "Execution Time (s):"
       ]
      },
      {
       "output_type": "stream",
       "stream": "stdout",
       "text": [
        " 0.638679981232\n",
        "Count: 391\n",
        "Execution Time (s):"
       ]
      },
      {
       "output_type": "stream",
       "stream": "stdout",
       "text": [
        " 0.616804838181\n",
        "Count: 392\n",
        "Execution Time (s):"
       ]
      },
      {
       "output_type": "stream",
       "stream": "stdout",
       "text": [
        " 0.603296041489\n",
        "Count: 393\n",
        "Execution Time (s):"
       ]
      },
      {
       "output_type": "stream",
       "stream": "stdout",
       "text": [
        " 0.657875061035\n",
        "Count: 394\n",
        "Execution Time (s):"
       ]
      },
      {
       "output_type": "stream",
       "stream": "stdout",
       "text": [
        " 0.649598121643\n",
        "Count: 395\n",
        "Execution Time (s):"
       ]
      },
      {
       "output_type": "stream",
       "stream": "stdout",
       "text": [
        " 0.640552997589\n",
        "Count: 396\n",
        "Execution Time (s):"
       ]
      },
      {
       "output_type": "stream",
       "stream": "stdout",
       "text": [
        " 0.686716079712\n",
        "Count: 397\n",
        "Execution Time (s):"
       ]
      },
      {
       "output_type": "stream",
       "stream": "stdout",
       "text": [
        " 0.821908950806\n",
        "Count: 398\n",
        "Execution Time (s):"
       ]
      },
      {
       "output_type": "stream",
       "stream": "stdout",
       "text": [
        " 0.891401052475\n",
        "Count: 399\n",
        "Execution Time (s):"
       ]
      },
      {
       "output_type": "stream",
       "stream": "stdout",
       "text": [
        " 0.801775932312\n",
        "Count: 400\n",
        "Execution Time (s):"
       ]
      },
      {
       "output_type": "stream",
       "stream": "stdout",
       "text": [
        " 0.82471704483\n",
        "Count: 401\n",
        "Execution Time (s):"
       ]
      },
      {
       "output_type": "stream",
       "stream": "stdout",
       "text": [
        " 0.862595081329\n",
        "Count: 402\n",
        "Execution Time (s):"
       ]
      },
      {
       "output_type": "stream",
       "stream": "stdout",
       "text": [
        " 0.806975126266\n",
        "Count: 403\n",
        "Execution Time (s):"
       ]
      },
      {
       "output_type": "stream",
       "stream": "stdout",
       "text": [
        " 0.858884096146\n",
        "Count: 404\n",
        "Execution Time (s):"
       ]
      },
      {
       "output_type": "stream",
       "stream": "stdout",
       "text": [
        " 0.930438041687\n",
        "Count: 405\n",
        "Execution Time (s):"
       ]
      },
      {
       "output_type": "stream",
       "stream": "stdout",
       "text": [
        " 0.831390142441\n",
        "Count: 406\n",
        "Execution Time (s):"
       ]
      },
      {
       "output_type": "stream",
       "stream": "stdout",
       "text": [
        " 0.85875082016\n",
        "Count: 407\n",
        "Execution Time (s):"
       ]
      },
      {
       "output_type": "stream",
       "stream": "stdout",
       "text": [
        " 0.831362009048\n",
        "Count: 408\n",
        "Execution Time (s):"
       ]
      },
      {
       "output_type": "stream",
       "stream": "stdout",
       "text": [
        " 0.864061117172\n",
        "Count: 409\n",
        "Execution Time (s):"
       ]
      },
      {
       "output_type": "stream",
       "stream": "stdout",
       "text": [
        " 0.930671930313\n",
        "Count: 410\n",
        "Execution Time (s):"
       ]
      },
      {
       "output_type": "stream",
       "stream": "stdout",
       "text": [
        " 1.01058697701\n",
        "Count: 411\n",
        "Execution Time (s):"
       ]
      },
      {
       "output_type": "stream",
       "stream": "stdout",
       "text": [
        " 1.09223890305\n",
        "Count: 412\n",
        "Execution Time (s):"
       ]
      },
      {
       "output_type": "stream",
       "stream": "stdout",
       "text": [
        " 1.01194190979\n",
        "Count: 413\n",
        "Execution Time (s):"
       ]
      },
      {
       "output_type": "stream",
       "stream": "stdout",
       "text": [
        " 0.95202589035\n",
        "Count: 414\n",
        "Execution Time (s):"
       ]
      },
      {
       "output_type": "stream",
       "stream": "stdout",
       "text": [
        " 1.01554989815\n",
        "Count: 415\n",
        "Execution Time (s):"
       ]
      },
      {
       "output_type": "stream",
       "stream": "stdout",
       "text": [
        " 1.02076292038\n",
        "Count: 416\n",
        "Execution Time (s):"
       ]
      },
      {
       "output_type": "stream",
       "stream": "stdout",
       "text": [
        " 1.00185489655\n",
        "Count: 417\n",
        "Execution Time (s):"
       ]
      },
      {
       "output_type": "stream",
       "stream": "stdout",
       "text": [
        " 1.15141701698\n",
        "Count: 418\n",
        "Execution Time (s):"
       ]
      },
      {
       "output_type": "stream",
       "stream": "stdout",
       "text": [
        " 1.02819514275\n",
        "Count: 419\n",
        "Execution Time (s):"
       ]
      },
      {
       "output_type": "stream",
       "stream": "stdout",
       "text": [
        " 1.02785515785\n",
        "Count: 420\n",
        "Execution Time (s):"
       ]
      },
      {
       "output_type": "stream",
       "stream": "stdout",
       "text": [
        " 1.05595707893\n",
        "Count: 421\n",
        "Execution Time (s):"
       ]
      },
      {
       "output_type": "stream",
       "stream": "stdout",
       "text": [
        " 1.07240080833\n",
        "Count: 422\n",
        "Execution Time (s):"
       ]
      },
      {
       "output_type": "stream",
       "stream": "stdout",
       "text": [
        " 1.09105396271\n",
        "Count: 423\n",
        "Execution Time (s):"
       ]
      },
      {
       "output_type": "stream",
       "stream": "stdout",
       "text": [
        " 1.1190059185\n",
        "Count: 424\n",
        "Execution Time (s):"
       ]
      },
      {
       "output_type": "stream",
       "stream": "stdout",
       "text": [
        " 1.27010798454\n",
        "Count: 425\n",
        "Execution Time (s):"
       ]
      },
      {
       "output_type": "stream",
       "stream": "stdout",
       "text": [
        " 1.17594194412\n",
        "Count: 426\n",
        "Execution Time (s):"
       ]
      },
      {
       "output_type": "stream",
       "stream": "stdout",
       "text": [
        " 1.37820100784\n",
        "Count: 427\n",
        "Execution Time (s):"
       ]
      },
      {
       "output_type": "stream",
       "stream": "stdout",
       "text": [
        " 1.2795920372\n",
        "Count: 428\n",
        "Execution Time (s):"
       ]
      },
      {
       "output_type": "stream",
       "stream": "stdout",
       "text": [
        " 1.26377296448\n",
        "Count: 429\n",
        "Execution Time (s):"
       ]
      },
      {
       "output_type": "stream",
       "stream": "stdout",
       "text": [
        " 1.15761518478\n",
        "Count: 430\n",
        "Execution Time (s):"
       ]
      },
      {
       "output_type": "stream",
       "stream": "stdout",
       "text": [
        " 1.18477702141\n",
        "Count: 431\n",
        "Execution Time (s):"
       ]
      },
      {
       "output_type": "stream",
       "stream": "stdout",
       "text": [
        " 1.20235514641\n",
        "Count: 432\n",
        "Execution Time (s):"
       ]
      },
      {
       "output_type": "stream",
       "stream": "stdout",
       "text": [
        " 1.17140817642\n",
        "Count: 433\n",
        "Execution Time (s):"
       ]
      },
      {
       "output_type": "stream",
       "stream": "stdout",
       "text": [
        " 1.20914793015\n",
        "Count: 434\n",
        "Execution Time (s):"
       ]
      },
      {
       "output_type": "stream",
       "stream": "stdout",
       "text": [
        " 1.25522494316\n",
        "Count: 435\n",
        "Execution Time (s):"
       ]
      },
      {
       "output_type": "stream",
       "stream": "stdout",
       "text": [
        " 1.27189993858\n",
        "Count: 436\n",
        "Execution Time (s):"
       ]
      },
      {
       "output_type": "stream",
       "stream": "stdout",
       "text": [
        " 1.52745699883\n",
        "Count: 437\n",
        "Execution Time (s):"
       ]
      },
      {
       "output_type": "stream",
       "stream": "stdout",
       "text": [
        " 1.33384490013\n",
        "Count: 438\n",
        "Execution Time (s):"
       ]
      },
      {
       "output_type": "stream",
       "stream": "stdout",
       "text": [
        " 1.30490589142\n",
        "Count: 439\n",
        "Execution Time (s):"
       ]
      },
      {
       "output_type": "stream",
       "stream": "stdout",
       "text": [
        " 1.30037999153\n",
        "Count: 440\n",
        "Execution Time (s):"
       ]
      },
      {
       "output_type": "stream",
       "stream": "stdout",
       "text": [
        " 1.31917405128\n",
        "Count: 441\n",
        "Execution Time (s):"
       ]
      },
      {
       "output_type": "stream",
       "stream": "stdout",
       "text": [
        " 1.3690237999\n",
        "Count: 442\n",
        "Execution Time (s):"
       ]
      },
      {
       "output_type": "stream",
       "stream": "stdout",
       "text": [
        " 1.39669799805\n",
        "Count: 443\n",
        "Execution Time (s):"
       ]
      },
      {
       "output_type": "stream",
       "stream": "stdout",
       "text": [
        " 1.44261908531\n",
        "Count: 444\n",
        "Execution Time (s):"
       ]
      },
      {
       "output_type": "stream",
       "stream": "stdout",
       "text": [
        " 1.42549991608\n",
        "Count: 445\n",
        "Execution Time (s):"
       ]
      },
      {
       "output_type": "stream",
       "stream": "stdout",
       "text": [
        " 1.36249613762\n",
        "Count: 446\n",
        "Execution Time (s):"
       ]
      },
      {
       "output_type": "stream",
       "stream": "stdout",
       "text": [
        " 1.37704110146\n",
        "Count: 447\n",
        "Execution Time (s):"
       ]
      },
      {
       "output_type": "stream",
       "stream": "stdout",
       "text": [
        " 1.3780810833\n",
        "Count: 448\n",
        "Execution Time (s):"
       ]
      },
      {
       "output_type": "stream",
       "stream": "stdout",
       "text": [
        " 1.41235184669\n",
        "Count: 449\n",
        "Execution Time (s):"
       ]
      },
      {
       "output_type": "stream",
       "stream": "stdout",
       "text": [
        " 1.61577296257\n",
        "Count: 450\n",
        "Execution Time (s):"
       ]
      },
      {
       "output_type": "stream",
       "stream": "stdout",
       "text": [
        " 1.53957390785\n",
        "Count: 451\n",
        "Execution Time (s):"
       ]
      },
      {
       "output_type": "stream",
       "stream": "stdout",
       "text": [
        " 1.57545399666\n",
        "Count: 452\n",
        "Execution Time (s):"
       ]
      },
      {
       "output_type": "stream",
       "stream": "stdout",
       "text": [
        " 1.73080897331\n",
        "Count: 453\n",
        "Execution Time (s):"
       ]
      },
      {
       "output_type": "stream",
       "stream": "stdout",
       "text": [
        " 1.8939101696\n",
        "Count: 454\n",
        "Execution Time (s):"
       ]
      },
      {
       "output_type": "stream",
       "stream": "stdout",
       "text": [
        " 2.17849993706\n",
        "Count: 455\n",
        "Execution Time (s):"
       ]
      },
      {
       "output_type": "stream",
       "stream": "stdout",
       "text": [
        " 2.38315486908\n",
        "Count: 456\n",
        "Execution Time (s):"
       ]
      },
      {
       "output_type": "stream",
       "stream": "stdout",
       "text": [
        " 2.44176006317\n",
        "Count: 457\n",
        "Execution Time (s):"
       ]
      },
      {
       "output_type": "stream",
       "stream": "stdout",
       "text": [
        " 2.43209600449\n",
        "Count: 458\n",
        "Execution Time (s):"
       ]
      },
      {
       "output_type": "stream",
       "stream": "stdout",
       "text": [
        " 2.56490302086\n",
        "Count: 459\n",
        "Execution Time (s):"
       ]
      },
      {
       "output_type": "stream",
       "stream": "stdout",
       "text": [
        " 2.6877720356\n",
        "Count: 460\n",
        "Execution Time (s):"
       ]
      },
      {
       "output_type": "stream",
       "stream": "stdout",
       "text": [
        " 2.82945084572\n",
        "Count: 461\n",
        "Execution Time (s):"
       ]
      },
      {
       "output_type": "stream",
       "stream": "stdout",
       "text": [
        " 3.07253789902\n",
        "Count: 462\n",
        "Execution Time (s):"
       ]
      },
      {
       "output_type": "stream",
       "stream": "stdout",
       "text": [
        " 3.12609982491\n",
        "Count: 463\n",
        "Execution Time (s):"
       ]
      },
      {
       "output_type": "stream",
       "stream": "stdout",
       "text": [
        " 3.29544186592\n",
        "Count: 464\n",
        "Execution Time (s):"
       ]
      },
      {
       "output_type": "stream",
       "stream": "stdout",
       "text": [
        " 3.42342400551\n",
        "Count: 465\n",
        "Execution Time (s):"
       ]
      },
      {
       "output_type": "stream",
       "stream": "stdout",
       "text": [
        " 3.63739490509\n",
        "Count: 466\n",
        "Execution Time (s):"
       ]
      },
      {
       "output_type": "stream",
       "stream": "stdout",
       "text": [
        " 3.72409296036\n",
        "Count: 467\n",
        "Execution Time (s):"
       ]
      },
      {
       "output_type": "stream",
       "stream": "stdout",
       "text": [
        " 3.98650598526\n",
        "Count: 468\n",
        "Execution Time (s):"
       ]
      },
      {
       "output_type": "stream",
       "stream": "stdout",
       "text": [
        " 4.17620301247\n",
        "Count: 469\n",
        "Execution Time (s):"
       ]
      },
      {
       "output_type": "stream",
       "stream": "stdout",
       "text": [
        " 4.32122206688\n",
        "Count: 470\n",
        "Execution Time (s):"
       ]
      },
      {
       "output_type": "stream",
       "stream": "stdout",
       "text": [
        " 4.44691705704\n",
        "Count: 471\n",
        "Execution Time (s):"
       ]
      },
      {
       "output_type": "stream",
       "stream": "stdout",
       "text": [
        " 4.64684391022\n",
        "Count: 472\n",
        "Execution Time (s):"
       ]
      },
      {
       "output_type": "stream",
       "stream": "stdout",
       "text": [
        " 4.83427786827\n",
        "Count: 473\n",
        "Execution Time (s):"
       ]
      },
      {
       "output_type": "stream",
       "stream": "stdout",
       "text": [
        " 4.97109985352\n",
        "Count: 474\n",
        "Execution Time (s):"
       ]
      },
      {
       "output_type": "stream",
       "stream": "stdout",
       "text": [
        " 5.92805409431\n",
        "Count: 475\n",
        "Execution Time (s):"
       ]
      },
      {
       "output_type": "stream",
       "stream": "stdout",
       "text": [
        " 6.03507685661\n",
        "Count: 476\n",
        "Execution Time (s):"
       ]
      },
      {
       "output_type": "stream",
       "stream": "stdout",
       "text": [
        " 5.43025803566\n",
        "Count: 477\n",
        "Execution Time (s):"
       ]
      },
      {
       "output_type": "stream",
       "stream": "stdout",
       "text": [
        " 5.50321316719\n",
        "Count: 478\n",
        "Execution Time (s):"
       ]
      },
      {
       "output_type": "stream",
       "stream": "stdout",
       "text": [
        " 6.05666589737\n",
        "Count: 479\n",
        "Execution Time (s):"
       ]
      },
      {
       "output_type": "stream",
       "stream": "stdout",
       "text": [
        " 5.66991209984\n",
        "Count: 480\n",
        "Execution Time (s):"
       ]
      },
      {
       "output_type": "stream",
       "stream": "stdout",
       "text": [
        " 5.76881313324\n",
        "Count: 481\n",
        "Execution Time (s):"
       ]
      },
      {
       "output_type": "stream",
       "stream": "stdout",
       "text": [
        " 5.96852993965\n",
        "Count: 482\n",
        "Execution Time (s):"
       ]
      },
      {
       "output_type": "stream",
       "stream": "stdout",
       "text": [
        " 6.23278999329\n",
        "Count: 483\n",
        "Execution Time (s):"
       ]
      },
      {
       "output_type": "stream",
       "stream": "stdout",
       "text": [
        " 6.13165092468\n",
        "Count: 484\n",
        "Execution Time (s):"
       ]
      },
      {
       "output_type": "stream",
       "stream": "stdout",
       "text": [
        " 6.60265493393\n",
        "Count: 485\n",
        "Execution Time (s):"
       ]
      },
      {
       "output_type": "stream",
       "stream": "stdout",
       "text": [
        " 6.69805216789\n",
        "Count: 486\n",
        "Execution Time (s):"
       ]
      },
      {
       "output_type": "stream",
       "stream": "stdout",
       "text": [
        " 6.92277193069\n",
        "Count: 487\n",
        "Execution Time (s):"
       ]
      },
      {
       "output_type": "stream",
       "stream": "stdout",
       "text": [
        " 7.02382993698\n",
        "Count: 488\n",
        "Execution Time (s):"
       ]
      },
      {
       "output_type": "stream",
       "stream": "stdout",
       "text": [
        " 7.1547369957\n",
        "Count: 489\n",
        "Execution Time (s):"
       ]
      },
      {
       "output_type": "stream",
       "stream": "stdout",
       "text": [
        " 7.42729496956\n",
        "Count: 490\n",
        "Execution Time (s):"
       ]
      },
      {
       "output_type": "stream",
       "stream": "stdout",
       "text": [
        " 7.39665794373\n",
        "Count: 491\n",
        "Execution Time (s):"
       ]
      },
      {
       "output_type": "stream",
       "stream": "stdout",
       "text": [
        " 7.6092171669\n",
        "Count: 492\n",
        "Execution Time (s):"
       ]
      },
      {
       "output_type": "stream",
       "stream": "stdout",
       "text": [
        " 7.93260908127\n",
        "Count: 493\n",
        "Execution Time (s):"
       ]
      },
      {
       "output_type": "stream",
       "stream": "stdout",
       "text": [
        " 7.97998213768\n",
        "Count: 494\n",
        "Execution Time (s):"
       ]
      },
      {
       "output_type": "stream",
       "stream": "stdout",
       "text": [
        " 8.57301592827\n",
        "Count: 495\n",
        "Execution Time (s):"
       ]
      },
      {
       "output_type": "stream",
       "stream": "stdout",
       "text": [
        " 8.1645629406\n",
        "Count: 496\n",
        "Execution Time (s):"
       ]
      },
      {
       "output_type": "stream",
       "stream": "stdout",
       "text": [
        " 8.47641301155\n",
        "Count: 497\n",
        "Execution Time (s):"
       ]
      },
      {
       "output_type": "stream",
       "stream": "stdout",
       "text": [
        " 8.5593559742\n",
        "Count: 498\n",
        "Execution Time (s):"
       ]
      },
      {
       "output_type": "stream",
       "stream": "stdout",
       "text": [
        " 8.73291087151\n",
        "Count: 499\n",
        "Execution Time (s):"
       ]
      },
      {
       "output_type": "stream",
       "stream": "stdout",
       "text": [
        " 9.15743207932\n",
        "Count: 500\n",
        "Execution Time (s):"
       ]
      },
      {
       "output_type": "stream",
       "stream": "stdout",
       "text": [
        " 8.59523892403\n",
        "Count: 501\n",
        "Execution Time (s):"
       ]
      },
      {
       "output_type": "stream",
       "stream": "stdout",
       "text": [
        " 8.72564911842\n",
        "Count: 502\n",
        "Execution Time (s):"
       ]
      },
      {
       "output_type": "stream",
       "stream": "stdout",
       "text": [
        " 9.03204798698\n",
        "Count: 503\n",
        "Execution Time (s):"
       ]
      },
      {
       "output_type": "stream",
       "stream": "stdout",
       "text": [
        " 9.06488013268\n",
        "Count: 504\n",
        "Execution Time (s):"
       ]
      },
      {
       "output_type": "stream",
       "stream": "stdout",
       "text": [
        " 9.23693609238\n",
        "Count: 505\n",
        "Execution Time (s):"
       ]
      },
      {
       "output_type": "stream",
       "stream": "stdout",
       "text": [
        " 10.6079142094\n",
        "Count: 506\n",
        "Execution Time (s):"
       ]
      },
      {
       "output_type": "stream",
       "stream": "stdout",
       "text": [
        " 10.2676301003\n",
        "Count: 507\n",
        "Execution Time (s):"
       ]
      },
      {
       "output_type": "stream",
       "stream": "stdout",
       "text": [
        " 9.95679092407\n",
        "Count: 508\n",
        "Execution Time (s):"
       ]
      },
      {
       "output_type": "stream",
       "stream": "stdout",
       "text": [
        " 9.8576669693\n",
        "Count: 509\n",
        "Execution Time (s):"
       ]
      },
      {
       "output_type": "stream",
       "stream": "stdout",
       "text": [
        " 10.1425228119\n",
        "Count: 510\n",
        "Execution Time (s):"
       ]
      },
      {
       "output_type": "stream",
       "stream": "stdout",
       "text": [
        " 10.5809879303\n",
        "Count: 511\n",
        "Execution Time (s):"
       ]
      },
      {
       "output_type": "stream",
       "stream": "stdout",
       "text": [
        " 11.9834740162\n",
        "Count: 512\n",
        "Execution Time (s):"
       ]
      },
      {
       "output_type": "stream",
       "stream": "stdout",
       "text": [
        " 11.4474020004\n",
        "Count: 513\n",
        "Execution Time (s):"
       ]
      },
      {
       "output_type": "stream",
       "stream": "stdout",
       "text": [
        " 11.1610779762\n",
        "Count: 514\n",
        "Execution Time (s):"
       ]
      },
      {
       "output_type": "stream",
       "stream": "stdout",
       "text": [
        " 11.6402199268\n",
        "Count: 515\n",
        "Execution Time (s):"
       ]
      },
      {
       "output_type": "stream",
       "stream": "stdout",
       "text": [
        " 11.5360121727\n",
        "Count: 516\n",
        "Execution Time (s):"
       ]
      },
      {
       "output_type": "stream",
       "stream": "stdout",
       "text": [
        " 11.1449351311\n",
        "Count: 517\n",
        "Execution Time (s):"
       ]
      },
      {
       "output_type": "stream",
       "stream": "stdout",
       "text": [
        " 12.7765738964\n",
        "Count: 518\n",
        "Execution Time (s):"
       ]
      },
      {
       "output_type": "stream",
       "stream": "stdout",
       "text": [
        " 10.9810039997\n",
        "Count: 519\n",
        "Execution Time (s):"
       ]
      },
      {
       "output_type": "stream",
       "stream": "stdout",
       "text": [
        " 11.3116700649\n",
        "Count: 520\n",
        "Execution Time (s):"
       ]
      },
      {
       "output_type": "stream",
       "stream": "stdout",
       "text": [
        " 11.6910290718\n",
        "Count: 521\n",
        "Execution Time (s):"
       ]
      },
      {
       "output_type": "stream",
       "stream": "stdout",
       "text": [
        " 12.0200550556\n",
        "Count: 522\n",
        "Execution Time (s):"
       ]
      },
      {
       "output_type": "stream",
       "stream": "stdout",
       "text": [
        " 12.5486860275\n",
        "Count: 523\n",
        "Execution Time (s):"
       ]
      },
      {
       "output_type": "stream",
       "stream": "stdout",
       "text": [
        " 11.8055529594\n",
        "Count: 524\n",
        "Execution Time (s):"
       ]
      },
      {
       "output_type": "stream",
       "stream": "stdout",
       "text": [
        " 12.0361680984\n",
        "Count: 525\n",
        "Execution Time (s):"
       ]
      },
      {
       "output_type": "stream",
       "stream": "stdout",
       "text": [
        " 12.3389840126\n",
        "Count: 526\n",
        "Execution Time (s):"
       ]
      },
      {
       "output_type": "stream",
       "stream": "stdout",
       "text": [
        " 12.8094639778\n",
        "Count: 527\n",
        "Execution Time (s):"
       ]
      },
      {
       "output_type": "stream",
       "stream": "stdout",
       "text": [
        " 12.6639130116\n",
        "Count: 528\n",
        "Execution Time (s):"
       ]
      },
      {
       "output_type": "stream",
       "stream": "stdout",
       "text": [
        " 13.1465439796\n",
        "Count: 529\n",
        "Execution Time (s):"
       ]
      },
      {
       "output_type": "stream",
       "stream": "stdout",
       "text": [
        " 13.5874071121\n",
        "Count: 530\n",
        "Execution Time (s):"
       ]
      },
      {
       "output_type": "stream",
       "stream": "stdout",
       "text": [
        " 14.0347368717\n",
        "Count: 531\n",
        "Execution Time (s):"
       ]
      },
      {
       "output_type": "stream",
       "stream": "stdout",
       "text": [
        " 13.9484219551\n",
        "Count: 532\n",
        "Execution Time (s):"
       ]
      },
      {
       "output_type": "stream",
       "stream": "stdout",
       "text": [
        " 13.47853899\n",
        "Count: 533\n",
        "Execution Time (s):"
       ]
      },
      {
       "output_type": "stream",
       "stream": "stdout",
       "text": [
        " 13.0559709072\n",
        "Count: 534\n",
        "Execution Time (s):"
       ]
      },
      {
       "output_type": "stream",
       "stream": "stdout",
       "text": [
        " 13.368571043\n",
        "Count: 535\n",
        "Execution Time (s):"
       ]
      },
      {
       "output_type": "stream",
       "stream": "stdout",
       "text": [
        " 13.9188919067\n",
        "Count: 536\n",
        "Execution Time (s):"
       ]
      },
      {
       "output_type": "stream",
       "stream": "stdout",
       "text": [
        " 13.7873809338\n",
        "Count: 537\n",
        "Execution Time (s):"
       ]
      },
      {
       "output_type": "stream",
       "stream": "stdout",
       "text": [
        " 13.8145320415\n",
        "Count: 538\n",
        "Execution Time (s):"
       ]
      },
      {
       "output_type": "stream",
       "stream": "stdout",
       "text": [
        " 13.6973931789\n",
        "Count: 539\n",
        "Execution Time (s):"
       ]
      },
      {
       "output_type": "stream",
       "stream": "stdout",
       "text": [
        " 13.9633858204\n",
        "Count: 540\n",
        "Execution Time (s):"
       ]
      },
      {
       "output_type": "stream",
       "stream": "stdout",
       "text": [
        " 14.2125189304\n",
        "Count: 541\n"
       ]
      }
     ],
     "prompt_number": 13
    },
    {
     "cell_type": "heading",
     "level": 3,
     "metadata": {},
     "source": [
      "Multiprocessing"
     ]
    },
    {
     "cell_type": "code",
     "collapsed": false,
     "input": [
      "from multiprocessing import Pool"
     ],
     "language": "python",
     "metadata": {},
     "outputs": []
    },
    {
     "cell_type": "code",
     "collapsed": false,
     "input": [
      "#the simulation\n",
      "def f(numdarts):\n",
      "    extime_mp = []\n",
      "    simrate_mp = []\n",
      "    count = 0\n",
      "    for number_of_darts in moo:\n",
      "        number_of_darts_in_circle = 0\n",
      "        \n",
      "        start_time = time()\n",
      "        \n",
      "        for n in range(number_of_darts):\n",
      "            x,y = uniform(0,1), uniform(0,1)\n",
      "            if sqrt((x - 0.5)**2 + (y - 0.5)**2) <= 0.5:\n",
      "                number_of_darts_in_circle += 1\n",
      "        \n",
      "        end_time = time()\n",
      "        execution_time = end_time - start_time\n",
      "        extime_mp.append(execution_time)\n",
      "        simrate_mp.append(number_of_darts/execution_time)\n",
      "        \n",
      "        pi_approx = 4 *number_of_darts_in_circle / float(number_of_darts)\n",
      "        count += 1\n",
      "        \n",
      "        #print \"Pi Approximation:\", pi_approx\n",
      "        #print \"Number of Darts:\", number_of_darts\n",
      "        print \"Execution Time (s):\", execution_time\n",
      "        #print \"Darts Thrown per Second:\", number_of_darts/execution_time\n",
      "        print \"Count:\", count\n",
      "return extime_mp, simrate_mp\n",
      "\n",
      "\n",
      "if __name__ == '__main__':\n",
      "    pool = Pool(processes=4)\n",
      "    test = pool.map(f, [numdarts])\n"
     ],
     "language": "python",
     "metadata": {},
     "outputs": []
    },
    {
     "cell_type": "code",
     "collapsed": false,
     "input": [
      "#assign returned variables\n",
      "extime_mp = test[0][0]\n",
      "simrate_mp = test[0][1]"
     ],
     "language": "python",
     "metadata": {},
     "outputs": []
    },
    {
     "cell_type": "heading",
     "level": 3,
     "metadata": {},
     "source": [
      "IP Cluster/Parallel"
     ]
    },
    {
     "cell_type": "code",
     "collapsed": false,
     "input": [
      "from IPython.display import display\n",
      "from IPython import parallel\n",
      "rc = parallel.Client()"
     ],
     "language": "python",
     "metadata": {},
     "outputs": [],
     "prompt_number": 1
    },
    {
     "cell_type": "code",
     "collapsed": false,
     "input": [
      "dview = rc[:]\n",
      "dview.block = True"
     ],
     "language": "python",
     "metadata": {},
     "outputs": [],
     "prompt_number": 2
    },
    {
     "cell_type": "code",
     "collapsed": false,
     "input": [
      "#distribute the darts array to the 4 engines\n",
      "dview.scatter('numdarts',darts)\n",
      "a = len(dview['numdarts'])"
     ],
     "language": "python",
     "metadata": {},
     "outputs": [],
     "prompt_number": 4
    },
    {
     "cell_type": "code",
     "collapsed": false,
     "input": [
      "#run the simulation using the magic %%px\n",
      "%%px\n",
      "\n",
      "from random import uniform\n",
      "from math import sqrt\n",
      "from time import time\n",
      "\n",
      "extime_parallel=[]\n",
      "simrate_parallel=[]\n",
      "#count = 0\n",
      "\n",
      "for number_of_darts in numdarts:\n",
      "    number_of_darts_in_circle = 0\n",
      "            \n",
      "    start_time = time()\n",
      "            \n",
      "    for n in range(number_of_darts):\n",
      "        x,y = uniform(0,1), uniform(0,1)\n",
      "        if sqrt((x - 0.5)**2 + (y - 0.5)**2) <= 0.5:\n",
      "            number_of_darts_in_circle += 1\n",
      "            \n",
      "    end_time = time()\n",
      "    execution_time = end_time - start_time\n",
      "    extime_parallel.append(execution_time)\n",
      "    simrate_parallel.append(number_of_darts/execution_time)\n",
      "            \n",
      "    pi_approx = 4 *number_of_darts_in_circle / float(number_of_darts)\n",
      "    #count += 1\n",
      "            \n",
      "    #print \"Pi Approximation:\", pi_approx\n",
      "    #print \"Number of Darts:\", number_of_darts\n",
      "    #print \"Execution Time (s):\", execution_time\n",
      "    #print \"Darts Thrown per Second:\", number_of_darts/execution_time\n",
      "    #print \"Count:\", count\n"
     ],
     "language": "python",
     "metadata": {},
     "outputs": [],
     "prompt_number": 9
    },
    {
     "cell_type": "code",
     "collapsed": false,
     "input": [
      "#assign returned variables\n",
      "extime_parallel = dview.gather('extime_parallel')\n",
      "simrate_parallel = dview.gather('simrate_parallel')"
     ],
     "language": "python",
     "metadata": {},
     "outputs": [],
     "prompt_number": 10
    },
    {
     "cell_type": "heading",
     "level": 3,
     "metadata": {},
     "source": [
      "Plotting"
     ]
    },
    {
     "cell_type": "code",
     "collapsed": false,
     "input": [
      "%pylab inline\n",
      "import matplotlib.pyplot as plt\n",
      "import numpy as np"
     ],
     "language": "python",
     "metadata": {},
     "outputs": []
    },
    {
     "cell_type": "code",
     "collapsed": false,
     "input": [
      "#plot execution time on left axis for serial\n",
      "f1, axL = plt.subplots()\n",
      "line1 = axL.plot(xaxis, extime_serial,label='Serial',linewidth=2,color='r')\n",
      "axL.minorticks_on()\n",
      "axL.set_xscale('log')\n",
      "axL.set_yscale('log')\n",
      "axL.set_xlabel('Darts Thrown')\n",
      "axL.set_ylabel('Execution Time (seconds), solid line')\n",
      "\n",
      "#add multiprocessing plot\n",
      "line2 = axL.plot(xaxis, extime_mp,label='Multiprocessing',linewidth=2,color='c')\n",
      "\n",
      "#add parallel plot\n",
      "line3 = axL.plot(xaxis, extime_parallel,label='IPcluster',linewidth=2,color='g')\n",
      "axL.legend(loc='top left',fontsize='10')\n",
      "\n",
      "#add second axis for simulation rate, serial\n",
      "axR = axL.twinx()\n",
      "line4 = axR.plot(xaxis, simrate_serial,linewidth=2,linestyle='--',color='r')\n",
      "axR.minorticks_on()\n",
      "axR.set_ylabel('Simulation Rate (darts/second), dashed line')\n",
      "axR.set_yscale('log')\n",
      "\n",
      "#add multiprocessing plot\n",
      "line5 = axR.plot(xaxis, simrate_mp,linewidth=2,linestyle='--',color='c')\n",
      "\n",
      "#add parallel plot\n",
      "line6 = axR.plot(xaxis, simrate_parallel,linewidth=2,linestyle='--',color='g')\n",
      "\n",
      "#save figure\n",
      "plt.show()\n",
      "savefig('parallel.png')"
     ],
     "language": "python",
     "metadata": {},
     "outputs": []
    }
   ],
   "metadata": {}
  }
 ]
}