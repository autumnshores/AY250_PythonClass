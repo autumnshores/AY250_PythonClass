{
 "metadata": {
  "name": "Homework9"
 },
 "nbformat": 3,
 "nbformat_minor": 0,
 "worksheets": [
  {
   "cells": [
    {
     "cell_type": "heading",
     "level": 3,
     "metadata": {},
     "source": [
      "Serial Processing"
     ]
    },
    {
     "cell_type": "code",
     "collapsed": false,
     "input": [
      "from random import uniform\n",
      "from math import sqrt\n",
      "from time import time"
     ],
     "language": "python",
     "metadata": {},
     "outputs": [],
     "prompt_number": 1
    },
    {
     "cell_type": "code",
     "collapsed": false,
     "input": [
      "#generate number of darts from 10^1 to 10^7\n",
      "numdarts = [range(10,100), range(100,1000,10), range(1000,10000,100), range(10000,100000,1000), \n",
      "                range(100000,1000000,10000), range(1000000,10100000,100000)]\n",
      "\n",
      "#create darts array for plotting\n",
      "darts = []\n",
      "for i in numdarts:\n",
      "    for j in i:\n",
      "        darts.append(j)"
     ],
     "language": "python",
     "metadata": {},
     "outputs": [],
     "prompt_number": 2
    },
    {
     "cell_type": "code",
     "collapsed": false,
     "input": [
      "#execution time array for plotting\n",
      "extime_serial= []\n",
      "#simulation rate array for plotting\n",
      "simrate_serial = []\n",
      "count = 0\n",
      "\n",
      "#the simulation (provided in hw)\n",
      "for number_of_darts in darts:\n",
      "    number_of_darts_in_circle = 0\n",
      "\n",
      "    start_time = time()\n",
      "\n",
      "    for n in range(number_of_darts):\n",
      "        x,y = uniform(0,1), uniform(0,1)\n",
      "        if sqrt((x - 0.5)**2 + (y - 0.5)**2) <= 0.5:\n",
      "            number_of_darts_in_circle += 1\n",
      "\n",
      "    end_time = time()\n",
      "    execution_time = end_time - start_time\n",
      "    extime_serial.append(execution_time)\n",
      "    simrate_serial.append(number_of_darts/execution_time)\n",
      "\n",
      "    pi_approx = 4 *number_of_darts_in_circle / float(number_of_darts)\n",
      "    count += 1\n",
      "\n",
      "    #print \"Pi Approximation:\", pi_approx\n",
      "    #print \"Number of Darts:\", number_of_darts\n",
      "    print \"Execution Time (s):\", execution_time\n",
      "    #print \"Darts Thrown per Second:\", number_of_darts/execution_time\n",
      "    print \"Count:\", count"
     ],
     "language": "python",
     "metadata": {},
     "outputs": [
      {
       "output_type": "stream",
       "stream": "stdout",
       "text": [
        "Execution Time (s): 6.89029693604e-05\n",
        "Count: 1\n",
        "Execution Time (s): 4.10079956055e-05\n",
        "Count: 2\n",
        "Execution Time (s): 4.19616699219e-05\n",
        "Count: 3\n",
        "Execution Time (s): 4.48226928711e-05\n",
        "Count: 4\n",
        "Execution Time (s): 4.00543212891e-05\n",
        "Count: 5\n",
        "Execution Time (s): 4.72068786621e-05\n",
        "Count: 6\n",
        "Execution Time (s): 4.50611114502e-05\n",
        "Count: 7\n",
        "Execution Time (s): 4.79221343994e-05\n",
        "Count: 8\n",
        "Execution Time (s): 5.19752502441e-05\n",
        "Count: 9\n",
        "Execution Time (s): 6.69956207275e-05\n",
        "Count: 10\n",
        "Execution Time (s): 6.60419464111e-05\n",
        "Count: 11\n",
        "Execution Time (s): 7.10487365723e-05\n",
        "Count: 12\n",
        "Execution Time (s): 6.00814819336e-05\n",
        "Count: 13\n",
        "Execution Time (s): 7.70092010498e-05\n",
        "Count: 14\n",
        "Execution Time (s): 8.10623168945e-05\n",
        "Count: 15\n",
        "Execution Time (s): 7.10487365723e-05\n",
        "Count: 16\n",
        "Execution Time (s): 7.20024108887e-05\n",
        "Count: 17\n",
        "Execution Time (s): 8.10623168945e-05\n",
        "Count: 18\n",
        "Execution Time (s): 7.79628753662e-05\n",
        "Count: 19\n",
        "Execution Time (s): 8.20159912109e-05\n",
        "Count: 20\n",
        "Execution Time (s): 8.41617584229e-05\n",
        "Count: 21\n",
        "Execution Time (s): 0.000123023986816\n",
        "Count: 22\n",
        "Execution Time (s): 9.10758972168e-05\n",
        "Count: 23\n",
        "Execution Time (s): 8.60691070557e-05\n",
        "Count: 24\n",
        "Execution Time (s): 9.20295715332e-05\n",
        "Count: 25\n",
        "Execution Time (s): 9.60826873779e-05\n",
        "Count: 26\n",
        "Execution Time (s): 9.51290130615e-05\n",
        "Count: 27\n",
        "Execution Time (s): 0.000102043151855\n",
        "Count: 28\n",
        "Execution Time (s): 0.000102996826172\n",
        "Count: 29\n",
        "Execution Time (s): 9.91821289062e-05\n",
        "Count: 30\n",
        "Execution Time (s): 0.000108003616333\n",
        "Count: 31\n",
        "Execution Time (s): 0.000113010406494\n",
        "Count: 32\n",
        "Execution Time (s): 0.000115156173706\n",
        "Count: 33\n",
        "Execution Time (s): 0.000116109848022\n",
        "Count: 34\n",
        "Execution Time (s): 0.000124931335449\n",
        "Count: 35\n",
        "Execution Time (s): 0.000125169754028\n",
        "Count: 36\n",
        "Execution Time (s): 0.000127077102661\n",
        "Count: 37\n",
        "Execution Time (s): 0.000131130218506\n",
        "Count: 38\n",
        "Execution Time (s): 0.000141859054565\n",
        "Count: 39\n",
        "Execution Time (s): 0.000173091888428\n",
        "Count: 40\n",
        "Execution Time (s): 0.00012993812561\n",
        "Count: 41\n",
        "Execution Time (s): 0.000142812728882\n",
        "Count: 42\n",
        "Execution Time (s): 0.000133991241455\n",
        "Count: 43\n",
        "Execution Time (s): 0.000141859054565\n",
        "Count: 44\n",
        "Execution Time (s): 0.000144004821777\n",
        "Count: 45\n",
        "Execution Time (s): 0.000205039978027\n",
        "Count: 46\n",
        "Execution Time (s): 0.000185012817383\n",
        "Count: 47\n",
        "Execution Time (s): 0.000207185745239\n",
        "Count: 48\n",
        "Execution Time (s): 0.000200986862183\n",
        "Count: 49\n",
        "Execution Time (s): 0.000217199325562\n",
        "Count: 50\n",
        "Execution Time (s): 0.000219106674194\n",
        "Count: 51\n",
        "Execution Time (s): 0.000205039978027\n",
        "Count: 52\n",
        "Execution Time (s): 0.000209808349609\n",
        "Count: 53\n",
        "Execution Time (s): 0.000200033187866\n",
        "Count: 54\n",
        "Execution Time (s): 0.000205039978027\n",
        "Count: 55\n",
        "Execution Time (s): 0.000197172164917\n",
        "Count: 56\n",
        "Execution Time (s): 0.000190019607544\n",
        "Count: 57\n",
        "Execution Time (s): 0.000181913375854\n",
        "Count: 58\n",
        "Execution Time (s): 0.000180006027222\n",
        "Count: 59\n",
        "Execution Time (s): 0.000203847885132\n",
        "Count: 60\n",
        "Execution Time (s): 0.00019097328186\n",
        "Count: 61\n",
        "Execution Time (s): 0.000251054763794\n",
        "Count: 62\n",
        "Execution Time (s): 0.000248908996582\n",
        "Count: 63\n",
        "Execution Time (s): 0.000249862670898\n",
        "Count: 64\n",
        "Execution Time (s): 0.000235080718994\n",
        "Count: 65\n",
        "Execution Time (s): 0.00023889541626\n",
        "Count: 66\n",
        "Execution Time (s): 0.000244140625\n",
        "Count: 67\n",
        "Execution Time (s): 0.000242948532104\n",
        "Count: 68\n",
        "Execution Time (s): 0.000250101089478\n",
        "Count: 69\n",
        "Execution Time (s): 0.000250101089478\n",
        "Count: 70\n",
        "Execution Time (s): 0.000257968902588\n",
        "Count: 71\n",
        "Execution Time (s): 0.000257968902588\n",
        "Count: 72\n",
        "Execution Time (s): 0.000262975692749\n",
        "Count: 73\n",
        "Execution Time (s): 0.000267028808594\n",
        "Count: 74\n",
        "Execution Time (s): 0.00026798248291\n",
        "Count: 75\n",
        "Execution Time (s): 0.000270843505859\n",
        "Count: 76\n",
        "Execution Time (s): 0.000272989273071\n",
        "Count: 77\n",
        "Execution Time (s): 0.000275850296021\n",
        "Count: 78\n",
        "Execution Time (s): 0.000278949737549\n",
        "Count: 79\n",
        "Execution Time (s): 0.00028395652771\n",
        "Count: 80\n",
        "Execution Time (s): 0.000286102294922\n",
        "Count: 81\n",
        "Execution Time (s): 0.000289916992188\n",
        "Count: 82\n",
        "Execution Time (s): 0.000295877456665\n",
        "Count: 83\n",
        "Execution Time (s): 0.000295162200928\n",
        "Count: 84\n",
        "Execution Time (s): 0.000248193740845\n",
        "Count: 85\n",
        "Execution Time (s): 0.000303983688354\n",
        "Count: 86\n",
        "Execution Time (s): 0.000329971313477\n",
        "Count: 87\n",
        "Execution Time (s): 0.000311136245728\n",
        "Count: 88\n",
        "Execution Time (s): 0.000309944152832\n",
        "Count: 89\n",
        "Execution Time (s): 0.000317096710205\n",
        "Count: 90\n",
        "Execution Time (s): 0.000322103500366\n",
        "Count: 91\n",
        "Execution Time (s): 0.000352144241333\n",
        "Count: 92\n",
        "Execution Time (s): 0.000381946563721\n",
        "Count: 93\n",
        "Execution Time (s): 0.000416994094849\n",
        "Count: 94\n",
        "Execution Time (s): 0.000442981719971\n",
        "Count: 95\n",
        "Execution Time (s): 0.000477075576782\n",
        "Count: 96\n",
        "Execution Time (s): 0.000514030456543\n",
        "Count: 97\n",
        "Execution Time (s): 0.000541210174561\n",
        "Count: 98\n",
        "Execution Time (s): 0.000898122787476\n",
        "Count: 99\n",
        "Execution Time (s): 0.000497817993164\n",
        "Count: 100\n",
        "Execution Time (s): 0.000525951385498\n",
        "Count: 101\n",
        "Execution Time (s): 0.000552892684937\n",
        "Count: 102\n",
        "Execution Time (s): 0.000571966171265\n",
        "Count: 103\n",
        "Execution Time (s): 0.000620126724243\n",
        "Count: 104\n",
        "Execution Time (s): 0.000659942626953\n",
        "Count: 105\n",
        "Execution Time (s): 0.000665187835693\n",
        "Count: 106\n",
        "Execution Time (s): 0.000694036483765\n",
        "Count: 107\n",
        "Execution Time (s): 0.000753164291382\n",
        "Count: 108\n",
        "Execution Time (s): 0.000739812850952\n",
        "Count: 109\n",
        "Execution Time (s): 0.000857830047607\n",
        "Count: 110\n",
        "Execution Time (s): 0.000905990600586\n",
        "Count: 111\n",
        "Execution Time (s): 0.00108003616333\n",
        "Count: 112\n",
        "Execution Time (s): 0.000789880752563\n",
        "Count: 113\n",
        "Execution Time (s): 0.00102686882019\n",
        "Count: 114\n",
        "Execution Time (s): 0.000910997390747\n",
        "Count: 115\n",
        "Execution Time (s): 0.000988006591797\n",
        "Count: 116\n",
        "Execution Time (s): 0.00114488601685\n",
        "Count: 117\n",
        "Execution Time (s): 0.00118088722229\n",
        "Count: 118\n",
        "Execution Time (s): 0.000695943832397\n",
        "Count: 119\n",
        "Execution Time (s): 0.000717163085938\n",
        "Count: 120\n",
        "Execution Time (s): 0.000709056854248\n",
        "Count: 121\n",
        "Execution Time (s): 0.00117015838623\n",
        "Count: 122\n",
        "Execution Time (s): 0.00128102302551\n",
        "Count: 123\n",
        "Execution Time (s): 0.00132513046265\n",
        "Count: 124\n",
        "Execution Time (s):"
       ]
      },
      {
       "output_type": "stream",
       "stream": "stdout",
       "text": [
        " 0.00136709213257\n",
        "Count: 125\n",
        "Execution Time (s): 0.00197410583496\n",
        "Count: 126\n",
        "Execution Time (s): 0.00130105018616\n",
        "Count: 127\n",
        "Execution Time (s): 0.00146102905273\n",
        "Count: 128\n",
        "Execution Time (s): 0.00117206573486\n",
        "Count: 129\n",
        "Execution Time (s): 0.0011990070343\n",
        "Count: 130\n",
        "Execution Time (s): 0.00122594833374\n",
        "Count: 131\n",
        "Execution Time (s): 0.00124907493591\n",
        "Count: 132\n",
        "Execution Time (s): 0.00147414207458\n",
        "Count: 133\n",
        "Execution Time (s): 0.00278782844543\n",
        "Count: 134\n",
        "Execution Time (s): 0.00146913528442\n",
        "Count: 135\n",
        "Execution Time (s): 0.00165009498596\n",
        "Count: 136\n",
        "Execution Time (s): 0.00165796279907\n",
        "Count: 137\n",
        "Execution Time (s): 0.00149416923523\n",
        "Count: 138\n",
        "Execution Time (s): 0.00167608261108\n",
        "Count: 139\n",
        "Execution Time (s): 0.0014820098877\n",
        "Count: 140\n",
        "Execution Time (s): 0.0015389919281\n",
        "Count: 141\n",
        "Execution Time (s): 0.0015721321106\n",
        "Count: 142\n",
        "Execution Time (s): 0.0015389919281\n",
        "Count: 143\n",
        "Execution Time (s): 0.00158214569092\n",
        "Count: 144\n",
        "Execution Time (s): 0.001708984375\n",
        "Count: 145\n",
        "Execution Time (s): 0.00195097923279\n",
        "Count: 146\n",
        "Execution Time (s): 0.00176286697388\n",
        "Count: 147\n",
        "Execution Time (s): 0.00177788734436\n",
        "Count: 148\n",
        "Execution Time (s): 0.00206899642944\n",
        "Count: 149\n",
        "Execution Time (s): 0.00205016136169\n",
        "Count: 150\n",
        "Execution Time (s): 0.00144195556641\n",
        "Count: 151\n",
        "Execution Time (s): 0.00174307823181\n",
        "Count: 152\n",
        "Execution Time (s): 0.00219488143921\n",
        "Count: 153\n",
        "Execution Time (s):"
       ]
      },
      {
       "output_type": "stream",
       "stream": "stdout",
       "text": [
        " 0.00204086303711\n",
        "Count: 154\n",
        "Execution Time (s): 0.00231099128723\n",
        "Count: 155\n",
        "Execution Time (s): 0.00240302085876\n",
        "Count: 156\n",
        "Execution Time (s): 0.0022611618042\n",
        "Count: 157\n",
        "Execution Time (s): 0.00241208076477\n",
        "Count: 158\n",
        "Execution Time (s): 0.00213813781738\n",
        "Count: 159\n",
        "Execution Time (s): 0.00237488746643\n",
        "Count: 160\n",
        "Execution Time (s): 0.00250887870789\n",
        "Count: 161\n",
        "Execution Time (s): 0.00231790542603\n",
        "Count: 162\n",
        "Execution Time (s): 0.0022828578949\n",
        "Count: 163\n",
        "Execution Time (s): 0.00230407714844\n",
        "Count: 164\n",
        "Execution Time (s): 0.00249695777893\n",
        "Count: 165\n",
        "Execution Time (s): 0.0026490688324\n",
        "Count: 166\n",
        "Execution Time (s): 0.00268006324768\n",
        "Count: 167\n",
        "Execution Time (s): 0.00223398208618\n",
        "Count: 168\n",
        "Execution Time (s): 0.0025589466095\n",
        "Count: 169\n",
        "Execution Time (s): 0.00218200683594\n",
        "Count: 170\n",
        "Execution Time (s): 0.00258994102478\n",
        "Count: 171\n",
        "Execution Time (s): 0.00249719619751\n",
        "Count: 172\n",
        "Execution Time (s): 0.00269889831543\n",
        "Count: 173\n",
        "Execution Time (s):"
       ]
      },
      {
       "output_type": "stream",
       "stream": "stdout",
       "text": [
        " 0.00285792350769\n",
        "Count: 174\n",
        "Execution Time (s): 0.0028760433197\n",
        "Count: 175\n",
        "Execution Time (s): 0.00289297103882\n",
        "Count: 176\n",
        "Execution Time (s): 0.00297999382019\n",
        "Count: 177\n",
        "Execution Time (s): 0.0030460357666\n",
        "Count: 178\n",
        "Execution Time (s): 0.00304698944092\n",
        "Count: 179\n",
        "Execution Time (s): 0.00309419631958\n",
        "Count: 180\n",
        "Execution Time (s): 0.00302815437317\n",
        "Count: 181\n",
        "Execution Time (s): 0.00352191925049\n",
        "Count: 182\n",
        "Execution Time (s): 0.00366115570068\n",
        "Count: 183\n",
        "Execution Time (s): 0.00399398803711\n",
        "Count: 184\n",
        "Execution Time (s): 0.00399112701416\n",
        "Count: 185\n",
        "Execution Time (s): 0.00474810600281\n",
        "Count: 186\n",
        "Execution Time (s): 0.0044047832489\n",
        "Count: 187\n",
        "Execution Time (s):"
       ]
      },
      {
       "output_type": "stream",
       "stream": "stdout",
       "text": [
        " 0.00574588775635\n",
        "Count: 188\n",
        "Execution Time (s): 0.00516486167908\n",
        "Count: 189\n",
        "Execution Time (s): 0.00578093528748\n",
        "Count: 190\n",
        "Execution Time (s): 0.00602793693542\n",
        "Count: 191\n",
        "Execution Time (s): 0.00691390037537\n",
        "Count: 192\n",
        "Execution Time (s): 0.00413203239441\n",
        "Count: 193\n",
        "Execution Time (s): 0.00375390052795\n",
        "Count: 194\n",
        "Execution Time (s): 0.00670218467712\n",
        "Count: 195\n",
        "Execution Time (s): 0.00618100166321\n",
        "Count: 196\n",
        "Execution Time (s):"
       ]
      },
      {
       "output_type": "stream",
       "stream": "stdout",
       "text": [
        " 0.00592517852783\n",
        "Count: 197\n",
        "Execution Time (s): 0.00732588768005\n",
        "Count: 198\n",
        "Execution Time (s): 0.00836610794067\n",
        "Count: 199\n",
        "Execution Time (s): 0.00795817375183\n",
        "Count: 200\n",
        "Execution Time (s): 0.00923109054565\n",
        "Count: 201\n",
        "Execution Time (s): 0.00961399078369\n",
        "Count: 202\n",
        "Execution Time (s):"
       ]
      },
      {
       "output_type": "stream",
       "stream": "stdout",
       "text": [
        " 0.00956702232361\n",
        "Count: 203\n",
        "Execution Time (s): 0.00942707061768\n",
        "Count: 204\n",
        "Execution Time (s): 0.00755405426025\n",
        "Count: 205\n",
        "Execution Time (s): 0.00607013702393\n",
        "Count: 206\n",
        "Execution Time (s): 0.00576901435852\n",
        "Count: 207\n",
        "Execution Time (s): 0.00914597511292\n",
        "Count: 208\n",
        "Execution Time (s): 0.0105991363525\n",
        "Count: 209\n",
        "Execution Time (s):"
       ]
      },
      {
       "output_type": "stream",
       "stream": "stdout",
       "text": [
        " 0.00846910476685\n",
        "Count: 210\n",
        "Execution Time (s): 0.0109589099884\n",
        "Count: 211\n",
        "Execution Time (s): 0.0128660202026\n",
        "Count: 212\n",
        "Execution Time (s): 0.0128400325775\n",
        "Count: 213\n",
        "Execution Time (s):"
       ]
      },
      {
       "output_type": "stream",
       "stream": "stdout",
       "text": [
        " 0.0133221149445\n",
        "Count: 214\n",
        "Execution Time (s): 0.0124340057373\n",
        "Count: 215\n",
        "Execution Time (s): 0.0110621452332\n",
        "Count: 216\n",
        "Execution Time (s): 0.0120189189911\n",
        "Count: 217\n",
        "Execution Time (s): 0.0114381313324\n",
        "Count: 218\n",
        "Execution Time (s):"
       ]
      },
      {
       "output_type": "stream",
       "stream": "stdout",
       "text": [
        " 0.0119431018829\n",
        "Count: 219\n",
        "Execution Time (s): 0.0099151134491\n",
        "Count: 220\n",
        "Execution Time (s): 0.0126080513\n",
        "Count: 221\n",
        "Execution Time (s): 0.0149631500244\n",
        "Count: 222\n",
        "Execution Time (s):"
       ]
      },
      {
       "output_type": "stream",
       "stream": "stdout",
       "text": [
        " 0.0156669616699\n",
        "Count: 223\n",
        "Execution Time (s): 0.0149130821228\n",
        "Count: 224\n",
        "Execution Time (s): 0.01597905159\n",
        "Count: 225\n",
        "Execution Time (s): 0.0150289535522\n",
        "Count: 226\n",
        "Execution Time (s):"
       ]
      },
      {
       "output_type": "stream",
       "stream": "stdout",
       "text": [
        " 0.0157091617584\n",
        "Count: 227\n",
        "Execution Time (s): 0.0190060138702\n",
        "Count: 228\n",
        "Execution Time (s): 0.0162479877472\n",
        "Count: 229\n",
        "Execution Time (s):"
       ]
      },
      {
       "output_type": "stream",
       "stream": "stdout",
       "text": [
        " 0.0166912078857\n",
        "Count: 230\n",
        "Execution Time (s): 0.0160539150238\n",
        "Count: 231\n",
        "Execution Time (s): 0.0112731456757\n",
        "Count: 232\n",
        "Execution Time (s): 0.0131359100342\n",
        "Count: 233\n",
        "Execution Time (s):"
       ]
      },
      {
       "output_type": "stream",
       "stream": "stdout",
       "text": [
        " 0.012923002243\n",
        "Count: 234\n",
        "Execution Time (s): 0.0182650089264\n",
        "Count: 235\n",
        "Execution Time (s): 0.0193331241608\n",
        "Count: 236\n",
        "Execution Time (s):"
       ]
      },
      {
       "output_type": "stream",
       "stream": "stdout",
       "text": [
        " 0.0199539661407\n",
        "Count: 237\n",
        "Execution Time (s): 0.0198938846588\n",
        "Count: 238\n",
        "Execution Time (s): 0.0203950405121\n",
        "Count: 239\n",
        "Execution Time (s):"
       ]
      },
      {
       "output_type": "stream",
       "stream": "stdout",
       "text": [
        " 0.0183892250061\n",
        "Count: 240\n",
        "Execution Time (s): 0.0208299160004\n",
        "Count: 241\n",
        "Execution Time (s): 0.0207300186157\n",
        "Count: 242\n",
        "Execution Time (s):"
       ]
      },
      {
       "output_type": "stream",
       "stream": "stdout",
       "text": [
        " 0.0189378261566\n",
        "Count: 243\n",
        "Execution Time (s): 0.0224070549011\n",
        "Count: 244\n",
        "Execution Time (s): 0.0209898948669\n",
        "Count: 245\n",
        "Execution Time (s):"
       ]
      },
      {
       "output_type": "stream",
       "stream": "stdout",
       "text": [
        " 0.0276191234589\n",
        "Count: 246\n",
        "Execution Time (s): 0.0198109149933\n",
        "Count: 247\n",
        "Execution Time (s): 0.0215659141541\n",
        "Count: 248\n",
        "Execution Time (s):"
       ]
      },
      {
       "output_type": "stream",
       "stream": "stdout",
       "text": [
        " 0.0147879123688\n",
        "Count: 249\n",
        "Execution Time (s): 0.0220210552216\n",
        "Count: 250\n",
        "Execution Time (s): 0.0177841186523\n",
        "Count: 251\n",
        "Execution Time (s):"
       ]
      },
      {
       "output_type": "stream",
       "stream": "stdout",
       "text": [
        " 0.0163941383362\n",
        "Count: 252\n",
        "Execution Time (s): 0.0241000652313\n",
        "Count: 253\n",
        "Execution Time (s): 0.0253500938416\n",
        "Count: 254\n",
        "Execution Time (s):"
       ]
      },
      {
       "output_type": "stream",
       "stream": "stdout",
       "text": [
        " 0.022087097168\n",
        "Count: 255\n",
        "Execution Time (s): 0.0265519618988\n",
        "Count: 256\n",
        "Execution Time (s): 0.0228710174561\n",
        "Count: 257\n",
        "Execution Time (s):"
       ]
      },
      {
       "output_type": "stream",
       "stream": "stdout",
       "text": [
        " 0.0150549411774\n",
        "Count: 258\n",
        "Execution Time (s): 0.0273690223694\n",
        "Count: 259\n",
        "Execution Time (s): 0.0191679000854\n",
        "Count: 260\n",
        "Execution Time (s):"
       ]
      },
      {
       "output_type": "stream",
       "stream": "stdout",
       "text": [
        " 0.0239191055298\n",
        "Count: 261\n",
        "Execution Time (s): 0.0269680023193\n",
        "Count: 262\n",
        "Execution Time (s): 0.0221350193024\n",
        "Count: 263\n",
        "Execution Time (s):"
       ]
      },
      {
       "output_type": "stream",
       "stream": "stdout",
       "text": [
        " 0.0276701450348\n",
        "Count: 264\n",
        "Execution Time (s): 0.0269370079041\n",
        "Count: 265\n",
        "Execution Time (s): 0.0212647914886\n",
        "Count: 266\n",
        "Execution Time (s):"
       ]
      },
      {
       "output_type": "stream",
       "stream": "stdout",
       "text": [
        " 0.0167331695557\n",
        "Count: 267\n",
        "Execution Time (s): 0.0237851142883\n",
        "Count: 268\n",
        "Execution Time (s):"
       ]
      },
      {
       "output_type": "stream",
       "stream": "stdout",
       "text": [
        " 0.0273389816284\n",
        "Count: 269\n",
        "Execution Time (s): 0.0214669704437\n",
        "Count: 270\n",
        "Execution Time (s): 0.0221660137177\n",
        "Count: 271\n",
        "Execution Time (s):"
       ]
      },
      {
       "output_type": "stream",
       "stream": "stdout",
       "text": [
        " 0.0191910266876\n",
        "Count: 272\n",
        "Execution Time (s): 0.031524181366\n",
        "Count: 273\n",
        "Execution Time (s):"
       ]
      },
      {
       "output_type": "stream",
       "stream": "stdout",
       "text": [
        " 0.0358710289001\n",
        "Count: 274\n",
        "Execution Time (s): 0.0360169410706\n",
        "Count: 275\n",
        "Execution Time (s):"
       ]
      },
      {
       "output_type": "stream",
       "stream": "stdout",
       "text": [
        " 0.0307850837708\n",
        "Count: 276\n",
        "Execution Time (s): 0.0466661453247\n",
        "Count: 277\n",
        "Execution Time (s):"
       ]
      },
      {
       "output_type": "stream",
       "stream": "stdout",
       "text": [
        " 0.0450799465179\n",
        "Count: 278\n",
        "Execution Time (s):"
       ]
      },
      {
       "output_type": "stream",
       "stream": "stdout",
       "text": [
        " 0.0572738647461\n",
        "Count: 279\n",
        "Execution Time (s): 0.0435149669647\n",
        "Count: 280\n",
        "Execution Time (s):"
       ]
      },
      {
       "output_type": "stream",
       "stream": "stdout",
       "text": [
        " 0.0356779098511\n",
        "Count: 281\n",
        "Execution Time (s):"
       ]
      },
      {
       "output_type": "stream",
       "stream": "stdout",
       "text": [
        " 0.0542728900909\n",
        "Count: 282\n",
        "Execution Time (s):"
       ]
      },
      {
       "output_type": "stream",
       "stream": "stdout",
       "text": [
        " 0.0563189983368\n",
        "Count: 283\n",
        "Execution Time (s):"
       ]
      },
      {
       "output_type": "stream",
       "stream": "stdout",
       "text": [
        " 0.0584259033203\n",
        "Count: 284\n",
        "Execution Time (s):"
       ]
      },
      {
       "output_type": "stream",
       "stream": "stdout",
       "text": [
        " 0.0550620555878\n",
        "Count: 285\n",
        "Execution Time (s):"
       ]
      },
      {
       "output_type": "stream",
       "stream": "stdout",
       "text": [
        " 0.0690319538116\n",
        "Count: 286\n",
        "Execution Time (s):"
       ]
      },
      {
       "output_type": "stream",
       "stream": "stdout",
       "text": [
        " 0.0650238990784\n",
        "Count: 287\n",
        "Execution Time (s):"
       ]
      },
      {
       "output_type": "stream",
       "stream": "stdout",
       "text": [
        " 0.064444065094\n",
        "Count: 288\n",
        "Execution Time (s): 0.0493080615997\n",
        "Count: 289\n",
        "Execution Time (s):"
       ]
      },
      {
       "output_type": "stream",
       "stream": "stdout",
       "text": [
        " 0.0551028251648\n",
        "Count: 290\n",
        "Execution Time (s):"
       ]
      },
      {
       "output_type": "stream",
       "stream": "stdout",
       "text": [
        " 0.0640330314636\n",
        "Count: 291\n",
        "Execution Time (s):"
       ]
      },
      {
       "output_type": "stream",
       "stream": "stdout",
       "text": [
        " 0.0733449459076\n",
        "Count: 292\n",
        "Execution Time (s):"
       ]
      },
      {
       "output_type": "stream",
       "stream": "stdout",
       "text": [
        " 0.0832920074463\n",
        "Count: 293\n",
        "Execution Time (s):"
       ]
      },
      {
       "output_type": "stream",
       "stream": "stdout",
       "text": [
        " 0.0967960357666\n",
        "Count: 294\n",
        "Execution Time (s):"
       ]
      },
      {
       "output_type": "stream",
       "stream": "stdout",
       "text": [
        " 0.089595079422\n",
        "Count: 295\n",
        "Execution Time (s):"
       ]
      },
      {
       "output_type": "stream",
       "stream": "stdout",
       "text": [
        " 0.0967230796814\n",
        "Count: 296\n",
        "Execution Time (s):"
       ]
      },
      {
       "output_type": "stream",
       "stream": "stdout",
       "text": [
        " 0.0707139968872\n",
        "Count: 297\n",
        "Execution Time (s):"
       ]
      },
      {
       "output_type": "stream",
       "stream": "stdout",
       "text": [
        " 0.0816419124603\n",
        "Count: 298\n",
        "Execution Time (s):"
       ]
      },
      {
       "output_type": "stream",
       "stream": "stdout",
       "text": [
        " 0.0900228023529\n",
        "Count: 299\n",
        "Execution Time (s):"
       ]
      },
      {
       "output_type": "stream",
       "stream": "stdout",
       "text": [
        " 0.107652902603\n",
        "Count: 300\n",
        "Execution Time (s):"
       ]
      },
      {
       "output_type": "stream",
       "stream": "stdout",
       "text": [
        " 0.117611885071\n",
        "Count: 301\n",
        "Execution Time (s):"
       ]
      },
      {
       "output_type": "stream",
       "stream": "stdout",
       "text": [
        " 0.10848402977\n",
        "Count: 302\n",
        "Execution Time (s):"
       ]
      },
      {
       "output_type": "stream",
       "stream": "stdout",
       "text": [
        " 0.0890519618988\n",
        "Count: 303\n",
        "Execution Time (s):"
       ]
      },
      {
       "output_type": "stream",
       "stream": "stdout",
       "text": [
        " 0.111805915833\n",
        "Count: 304\n",
        "Execution Time (s):"
       ]
      },
      {
       "output_type": "stream",
       "stream": "stdout",
       "text": [
        " 0.0868651866913\n",
        "Count: 305\n",
        "Execution Time (s):"
       ]
      },
      {
       "output_type": "stream",
       "stream": "stdout",
       "text": [
        " 0.0990180969238\n",
        "Count: 306\n",
        "Execution Time (s):"
       ]
      },
      {
       "output_type": "stream",
       "stream": "stdout",
       "text": [
        " 0.0973980426788\n",
        "Count: 307\n",
        "Execution Time (s):"
       ]
      },
      {
       "output_type": "stream",
       "stream": "stdout",
       "text": [
        " 0.0821070671082\n",
        "Count: 308\n",
        "Execution Time (s):"
       ]
      },
      {
       "output_type": "stream",
       "stream": "stdout",
       "text": [
        " 0.0887179374695\n",
        "Count: 309\n",
        "Execution Time (s):"
       ]
      },
      {
       "output_type": "stream",
       "stream": "stdout",
       "text": [
        " 0.128495931625\n",
        "Count: 310\n",
        "Execution Time (s):"
       ]
      },
      {
       "output_type": "stream",
       "stream": "stdout",
       "text": [
        " 0.0949850082397\n",
        "Count: 311\n",
        "Execution Time (s):"
       ]
      },
      {
       "output_type": "stream",
       "stream": "stdout",
       "text": [
        " 0.125366926193\n",
        "Count: 312\n",
        "Execution Time (s):"
       ]
      },
      {
       "output_type": "stream",
       "stream": "stdout",
       "text": [
        " 0.131588220596\n",
        "Count: 313\n",
        "Execution Time (s):"
       ]
      },
      {
       "output_type": "stream",
       "stream": "stdout",
       "text": [
        " 0.135371923447\n",
        "Count: 314\n",
        "Execution Time (s):"
       ]
      },
      {
       "output_type": "stream",
       "stream": "stdout",
       "text": [
        " 0.0960869789124\n",
        "Count: 315\n",
        "Execution Time (s):"
       ]
      },
      {
       "output_type": "stream",
       "stream": "stdout",
       "text": [
        " 0.10541009903\n",
        "Count: 316\n",
        "Execution Time (s):"
       ]
      },
      {
       "output_type": "stream",
       "stream": "stdout",
       "text": [
        " 0.115806102753\n",
        "Count: 317\n",
        "Execution Time (s):"
       ]
      },
      {
       "output_type": "stream",
       "stream": "stdout",
       "text": [
        " 0.124722003937\n",
        "Count: 318\n",
        "Execution Time (s):"
       ]
      },
      {
       "output_type": "stream",
       "stream": "stdout",
       "text": [
        " 0.138217926025\n",
        "Count: 319\n",
        "Execution Time (s):"
       ]
      },
      {
       "output_type": "stream",
       "stream": "stdout",
       "text": [
        " 0.11781001091\n",
        "Count: 320\n",
        "Execution Time (s):"
       ]
      },
      {
       "output_type": "stream",
       "stream": "stdout",
       "text": [
        " 0.111201047897\n",
        "Count: 321\n",
        "Execution Time (s):"
       ]
      },
      {
       "output_type": "stream",
       "stream": "stdout",
       "text": [
        " 0.117954015732\n",
        "Count: 322\n",
        "Execution Time (s):"
       ]
      },
      {
       "output_type": "stream",
       "stream": "stdout",
       "text": [
        " 0.155813217163\n",
        "Count: 323\n",
        "Execution Time (s):"
       ]
      },
      {
       "output_type": "stream",
       "stream": "stdout",
       "text": [
        " 0.128887176514\n",
        "Count: 324\n",
        "Execution Time (s):"
       ]
      },
      {
       "output_type": "stream",
       "stream": "stdout",
       "text": [
        " 0.124719142914\n",
        "Count: 325\n",
        "Execution Time (s):"
       ]
      },
      {
       "output_type": "stream",
       "stream": "stdout",
       "text": [
        " 0.149379014969\n",
        "Count: 326\n",
        "Execution Time (s):"
       ]
      },
      {
       "output_type": "stream",
       "stream": "stdout",
       "text": [
        " 0.146865129471\n",
        "Count: 327\n",
        "Execution Time (s):"
       ]
      },
      {
       "output_type": "stream",
       "stream": "stdout",
       "text": [
        " 0.136017084122\n",
        "Count: 328\n",
        "Execution Time (s):"
       ]
      },
      {
       "output_type": "stream",
       "stream": "stdout",
       "text": [
        " 0.132461071014\n",
        "Count: 329\n",
        "Execution Time (s):"
       ]
      },
      {
       "output_type": "stream",
       "stream": "stdout",
       "text": [
        " 0.137793064117\n",
        "Count: 330\n",
        "Execution Time (s):"
       ]
      },
      {
       "output_type": "stream",
       "stream": "stdout",
       "text": [
        " 0.155622005463\n",
        "Count: 331\n",
        "Execution Time (s):"
       ]
      },
      {
       "output_type": "stream",
       "stream": "stdout",
       "text": [
        " 0.150985002518\n",
        "Count: 332\n",
        "Execution Time (s):"
       ]
      },
      {
       "output_type": "stream",
       "stream": "stdout",
       "text": [
        " 0.164835929871\n",
        "Count: 333\n",
        "Execution Time (s):"
       ]
      },
      {
       "output_type": "stream",
       "stream": "stdout",
       "text": [
        " 0.159821987152\n",
        "Count: 334\n",
        "Execution Time (s):"
       ]
      },
      {
       "output_type": "stream",
       "stream": "stdout",
       "text": [
        " 0.171217918396\n",
        "Count: 335\n",
        "Execution Time (s):"
       ]
      },
      {
       "output_type": "stream",
       "stream": "stdout",
       "text": [
        " 0.199335098267\n",
        "Count: 336\n",
        "Execution Time (s):"
       ]
      },
      {
       "output_type": "stream",
       "stream": "stdout",
       "text": [
        " 0.161088943481\n",
        "Count: 337\n",
        "Execution Time (s):"
       ]
      },
      {
       "output_type": "stream",
       "stream": "stdout",
       "text": [
        " 0.174655914307\n",
        "Count: 338\n",
        "Execution Time (s):"
       ]
      },
      {
       "output_type": "stream",
       "stream": "stdout",
       "text": [
        " 0.171046972275\n",
        "Count: 339\n",
        "Execution Time (s):"
       ]
      },
      {
       "output_type": "stream",
       "stream": "stdout",
       "text": [
        " 0.186244010925\n",
        "Count: 340\n",
        "Execution Time (s):"
       ]
      },
      {
       "output_type": "stream",
       "stream": "stdout",
       "text": [
        " 0.167505979538\n",
        "Count: 341\n",
        "Execution Time (s):"
       ]
      },
      {
       "output_type": "stream",
       "stream": "stdout",
       "text": [
        " 0.167484045029\n",
        "Count: 342\n",
        "Execution Time (s):"
       ]
      },
      {
       "output_type": "stream",
       "stream": "stdout",
       "text": [
        " 0.166104078293\n",
        "Count: 343\n",
        "Execution Time (s):"
       ]
      },
      {
       "output_type": "stream",
       "stream": "stdout",
       "text": [
        " 0.146213054657\n",
        "Count: 344\n",
        "Execution Time (s):"
       ]
      },
      {
       "output_type": "stream",
       "stream": "stdout",
       "text": [
        " 0.181118965149\n",
        "Count: 345\n",
        "Execution Time (s):"
       ]
      },
      {
       "output_type": "stream",
       "stream": "stdout",
       "text": [
        " 0.156219005585\n",
        "Count: 346\n",
        "Execution Time (s):"
       ]
      },
      {
       "output_type": "stream",
       "stream": "stdout",
       "text": [
        " 0.167880058289\n",
        "Count: 347\n",
        "Execution Time (s):"
       ]
      },
      {
       "output_type": "stream",
       "stream": "stdout",
       "text": [
        " 0.180691957474\n",
        "Count: 348\n",
        "Execution Time (s):"
       ]
      },
      {
       "output_type": "stream",
       "stream": "stdout",
       "text": [
        " 0.165392160416\n",
        "Count: 349\n",
        "Execution Time (s):"
       ]
      },
      {
       "output_type": "stream",
       "stream": "stdout",
       "text": [
        " 0.212119102478\n",
        "Count: 350\n",
        "Execution Time (s):"
       ]
      },
      {
       "output_type": "stream",
       "stream": "stdout",
       "text": [
        " 0.184268951416\n",
        "Count: 351\n",
        "Execution Time (s):"
       ]
      },
      {
       "output_type": "stream",
       "stream": "stdout",
       "text": [
        " 0.200608968735\n",
        "Count: 352\n",
        "Execution Time (s):"
       ]
      },
      {
       "output_type": "stream",
       "stream": "stdout",
       "text": [
        " 0.176764965057\n",
        "Count: 353\n",
        "Execution Time (s):"
       ]
      },
      {
       "output_type": "stream",
       "stream": "stdout",
       "text": [
        " 0.174936056137\n",
        "Count: 354\n",
        "Execution Time (s):"
       ]
      },
      {
       "output_type": "stream",
       "stream": "stdout",
       "text": [
        " 0.178786039352\n",
        "Count: 355\n",
        "Execution Time (s):"
       ]
      },
      {
       "output_type": "stream",
       "stream": "stdout",
       "text": [
        " 0.222316980362\n",
        "Count: 356\n",
        "Execution Time (s):"
       ]
      },
      {
       "output_type": "stream",
       "stream": "stdout",
       "text": [
        " 0.196818113327\n",
        "Count: 357\n",
        "Execution Time (s):"
       ]
      },
      {
       "output_type": "stream",
       "stream": "stdout",
       "text": [
        " 0.176978111267\n",
        "Count: 358\n",
        "Execution Time (s):"
       ]
      },
      {
       "output_type": "stream",
       "stream": "stdout",
       "text": [
        " 0.197863101959\n",
        "Count: 359\n",
        "Execution Time (s):"
       ]
      },
      {
       "output_type": "stream",
       "stream": "stdout",
       "text": [
        " 0.184109926224\n",
        "Count: 360\n",
        "Execution Time (s):"
       ]
      },
      {
       "output_type": "stream",
       "stream": "stdout",
       "text": [
        " 0.18657708168\n",
        "Count: 361\n",
        "Execution Time (s):"
       ]
      },
      {
       "output_type": "stream",
       "stream": "stdout",
       "text": [
        " 0.235796928406\n",
        "Count: 362\n",
        "Execution Time (s):"
       ]
      },
      {
       "output_type": "stream",
       "stream": "stdout",
       "text": [
        " 0.299710988998\n",
        "Count: 363\n",
        "Execution Time (s):"
       ]
      },
      {
       "output_type": "stream",
       "stream": "stdout",
       "text": [
        " 0.271800994873\n",
        "Count: 364\n",
        "Execution Time (s):"
       ]
      },
      {
       "output_type": "stream",
       "stream": "stdout",
       "text": [
        " 0.24170589447\n",
        "Count: 365\n",
        "Execution Time (s):"
       ]
      },
      {
       "output_type": "stream",
       "stream": "stdout",
       "text": [
        " 0.284096002579\n",
        "Count: 366\n",
        "Execution Time (s):"
       ]
      },
      {
       "output_type": "stream",
       "stream": "stdout",
       "text": [
        " 0.299448013306\n",
        "Count: 367\n",
        "Execution Time (s):"
       ]
      },
      {
       "output_type": "stream",
       "stream": "stdout",
       "text": [
        " 0.327096939087\n",
        "Count: 368\n",
        "Execution Time (s):"
       ]
      },
      {
       "output_type": "stream",
       "stream": "stdout",
       "text": [
        " 0.378148078918\n",
        "Count: 369\n",
        "Execution Time (s):"
       ]
      },
      {
       "output_type": "stream",
       "stream": "stdout",
       "text": [
        " 0.371174097061\n",
        "Count: 370\n",
        "Execution Time (s):"
       ]
      },
      {
       "output_type": "stream",
       "stream": "stdout",
       "text": [
        " 0.393891096115\n",
        "Count: 371\n",
        "Execution Time (s):"
       ]
      },
      {
       "output_type": "stream",
       "stream": "stdout",
       "text": [
        " 0.412358999252\n",
        "Count: 372\n",
        "Execution Time (s):"
       ]
      },
      {
       "output_type": "stream",
       "stream": "stdout",
       "text": [
        " 0.386963129044\n",
        "Count: 373\n",
        "Execution Time (s):"
       ]
      },
      {
       "output_type": "stream",
       "stream": "stdout",
       "text": [
        " 0.429978847504\n",
        "Count: 374\n",
        "Execution Time (s):"
       ]
      },
      {
       "output_type": "stream",
       "stream": "stdout",
       "text": [
        " 0.451514005661\n",
        "Count: 375\n",
        "Execution Time (s):"
       ]
      },
      {
       "output_type": "stream",
       "stream": "stdout",
       "text": [
        " 0.473666906357\n",
        "Count: 376\n",
        "Execution Time (s):"
       ]
      },
      {
       "output_type": "stream",
       "stream": "stdout",
       "text": [
        " 0.468580961227\n",
        "Count: 377\n",
        "Execution Time (s):"
       ]
      },
      {
       "output_type": "stream",
       "stream": "stdout",
       "text": [
        " 0.49786400795\n",
        "Count: 378\n",
        "Execution Time (s):"
       ]
      },
      {
       "output_type": "stream",
       "stream": "stdout",
       "text": [
        " 0.515857934952\n",
        "Count: 379\n",
        "Execution Time (s):"
       ]
      },
      {
       "output_type": "stream",
       "stream": "stdout",
       "text": [
        " 0.496031045914\n",
        "Count: 380\n",
        "Execution Time (s):"
       ]
      },
      {
       "output_type": "stream",
       "stream": "stdout",
       "text": [
        " 0.520899772644\n",
        "Count: 381\n",
        "Execution Time (s):"
       ]
      },
      {
       "output_type": "stream",
       "stream": "stdout",
       "text": [
        " 0.556663036346\n",
        "Count: 382\n",
        "Execution Time (s):"
       ]
      },
      {
       "output_type": "stream",
       "stream": "stdout",
       "text": [
        " 0.560498952866\n",
        "Count: 383\n",
        "Execution Time (s):"
       ]
      },
      {
       "output_type": "stream",
       "stream": "stdout",
       "text": [
        " 0.597885847092\n",
        "Count: 384\n",
        "Execution Time (s):"
       ]
      },
      {
       "output_type": "stream",
       "stream": "stdout",
       "text": [
        " 0.593933820724\n",
        "Count: 385\n",
        "Execution Time (s):"
       ]
      },
      {
       "output_type": "stream",
       "stream": "stdout",
       "text": [
        " 0.706994056702\n",
        "Count: 386\n",
        "Execution Time (s):"
       ]
      },
      {
       "output_type": "stream",
       "stream": "stdout",
       "text": [
        " 0.688074111938\n",
        "Count: 387\n",
        "Execution Time (s):"
       ]
      },
      {
       "output_type": "stream",
       "stream": "stdout",
       "text": [
        " 0.692898035049\n",
        "Count: 388\n",
        "Execution Time (s):"
       ]
      },
      {
       "output_type": "stream",
       "stream": "stdout",
       "text": [
        " 0.677344799042\n",
        "Count: 389\n",
        "Execution Time (s):"
       ]
      },
      {
       "output_type": "stream",
       "stream": "stdout",
       "text": [
        " 0.68584394455\n",
        "Count: 390\n",
        "Execution Time (s):"
       ]
      },
      {
       "output_type": "stream",
       "stream": "stdout",
       "text": [
        " 0.697602033615\n",
        "Count: 391\n",
        "Execution Time (s):"
       ]
      },
      {
       "output_type": "stream",
       "stream": "stdout",
       "text": [
        " 0.723388910294\n",
        "Count: 392\n",
        "Execution Time (s):"
       ]
      },
      {
       "output_type": "stream",
       "stream": "stdout",
       "text": [
        " 0.756792068481\n",
        "Count: 393\n",
        "Execution Time (s):"
       ]
      },
      {
       "output_type": "stream",
       "stream": "stdout",
       "text": [
        " 0.792177915573\n",
        "Count: 394\n",
        "Execution Time (s):"
       ]
      },
      {
       "output_type": "stream",
       "stream": "stdout",
       "text": [
        " 0.780018091202\n",
        "Count: 395\n",
        "Execution Time (s):"
       ]
      },
      {
       "output_type": "stream",
       "stream": "stdout",
       "text": [
        " 0.802557945251\n",
        "Count: 396\n",
        "Execution Time (s):"
       ]
      },
      {
       "output_type": "stream",
       "stream": "stdout",
       "text": [
        " 0.819307088852\n",
        "Count: 397\n",
        "Execution Time (s):"
       ]
      },
      {
       "output_type": "stream",
       "stream": "stdout",
       "text": [
        " 0.841098070145\n",
        "Count: 398\n",
        "Execution Time (s):"
       ]
      },
      {
       "output_type": "stream",
       "stream": "stdout",
       "text": [
        " 0.9172539711\n",
        "Count: 399\n",
        "Execution Time (s):"
       ]
      },
      {
       "output_type": "stream",
       "stream": "stdout",
       "text": [
        " 1.07981395721\n",
        "Count: 400\n",
        "Execution Time (s):"
       ]
      },
      {
       "output_type": "stream",
       "stream": "stdout",
       "text": [
        " 1.07183098793\n",
        "Count: 401\n",
        "Execution Time (s):"
       ]
      },
      {
       "output_type": "stream",
       "stream": "stdout",
       "text": [
        " 0.910440921783\n",
        "Count: 402\n",
        "Execution Time (s):"
       ]
      },
      {
       "output_type": "stream",
       "stream": "stdout",
       "text": [
        " 0.990966081619\n",
        "Count: 403\n",
        "Execution Time (s):"
       ]
      },
      {
       "output_type": "stream",
       "stream": "stdout",
       "text": [
        " 1.20017886162\n",
        "Count: 404\n",
        "Execution Time (s):"
       ]
      },
      {
       "output_type": "stream",
       "stream": "stdout",
       "text": [
        " 1.0573580265\n",
        "Count: 405\n",
        "Execution Time (s):"
       ]
      },
      {
       "output_type": "stream",
       "stream": "stdout",
       "text": [
        " 1.04801607132\n",
        "Count: 406\n",
        "Execution Time (s):"
       ]
      },
      {
       "output_type": "stream",
       "stream": "stdout",
       "text": [
        " 1.12194490433\n",
        "Count: 407\n",
        "Execution Time (s):"
       ]
      },
      {
       "output_type": "stream",
       "stream": "stdout",
       "text": [
        " 1.11823487282\n",
        "Count: 408\n",
        "Execution Time (s):"
       ]
      },
      {
       "output_type": "stream",
       "stream": "stdout",
       "text": [
        " 1.09539103508\n",
        "Count: 409\n",
        "Execution Time (s):"
       ]
      },
      {
       "output_type": "stream",
       "stream": "stdout",
       "text": [
        " 1.09418392181\n",
        "Count: 410\n",
        "Execution Time (s):"
       ]
      },
      {
       "output_type": "stream",
       "stream": "stdout",
       "text": [
        " 1.10858798027\n",
        "Count: 411\n",
        "Execution Time (s):"
       ]
      },
      {
       "output_type": "stream",
       "stream": "stdout",
       "text": [
        " 1.14235496521\n",
        "Count: 412\n",
        "Execution Time (s):"
       ]
      },
      {
       "output_type": "stream",
       "stream": "stdout",
       "text": [
        " 1.12471818924\n",
        "Count: 413\n",
        "Execution Time (s):"
       ]
      },
      {
       "output_type": "stream",
       "stream": "stdout",
       "text": [
        " 1.25069093704\n",
        "Count: 414\n",
        "Execution Time (s):"
       ]
      },
      {
       "output_type": "stream",
       "stream": "stdout",
       "text": [
        " 1.18330383301\n",
        "Count: 415\n",
        "Execution Time (s):"
       ]
      },
      {
       "output_type": "stream",
       "stream": "stdout",
       "text": [
        " 1.30433607101\n",
        "Count: 416\n",
        "Execution Time (s):"
       ]
      },
      {
       "output_type": "stream",
       "stream": "stdout",
       "text": [
        " 1.2920229435\n",
        "Count: 417\n",
        "Execution Time (s):"
       ]
      },
      {
       "output_type": "stream",
       "stream": "stdout",
       "text": [
        " 1.39259195328\n",
        "Count: 418\n",
        "Execution Time (s):"
       ]
      },
      {
       "output_type": "stream",
       "stream": "stdout",
       "text": [
        " 1.38117599487\n",
        "Count: 419\n",
        "Execution Time (s):"
       ]
      },
      {
       "output_type": "stream",
       "stream": "stdout",
       "text": [
        " 1.34924697876\n",
        "Count: 420\n",
        "Execution Time (s):"
       ]
      },
      {
       "output_type": "stream",
       "stream": "stdout",
       "text": [
        " 1.40334892273\n",
        "Count: 421\n",
        "Execution Time (s):"
       ]
      },
      {
       "output_type": "stream",
       "stream": "stdout",
       "text": [
        " 1.22458004951\n",
        "Count: 422\n",
        "Execution Time (s):"
       ]
      },
      {
       "output_type": "stream",
       "stream": "stdout",
       "text": [
        " 1.39273691177\n",
        "Count: 423\n",
        "Execution Time (s):"
       ]
      },
      {
       "output_type": "stream",
       "stream": "stdout",
       "text": [
        " 1.33530712128\n",
        "Count: 424\n",
        "Execution Time (s):"
       ]
      },
      {
       "output_type": "stream",
       "stream": "stdout",
       "text": [
        " 1.51886606216\n",
        "Count: 425\n",
        "Execution Time (s):"
       ]
      },
      {
       "output_type": "stream",
       "stream": "stdout",
       "text": [
        " 1.32252788544\n",
        "Count: 426\n",
        "Execution Time (s):"
       ]
      },
      {
       "output_type": "stream",
       "stream": "stdout",
       "text": [
        " 1.36164283752\n",
        "Count: 427\n",
        "Execution Time (s):"
       ]
      },
      {
       "output_type": "stream",
       "stream": "stdout",
       "text": [
        " 1.34086298943\n",
        "Count: 428\n",
        "Execution Time (s):"
       ]
      },
      {
       "output_type": "stream",
       "stream": "stdout",
       "text": [
        " 1.55283308029\n",
        "Count: 429\n",
        "Execution Time (s):"
       ]
      },
      {
       "output_type": "stream",
       "stream": "stdout",
       "text": [
        " 1.60245895386\n",
        "Count: 430\n",
        "Execution Time (s):"
       ]
      },
      {
       "output_type": "stream",
       "stream": "stdout",
       "text": [
        " 1.64465117455\n",
        "Count: 431\n",
        "Execution Time (s):"
       ]
      },
      {
       "output_type": "stream",
       "stream": "stdout",
       "text": [
        " 1.67337489128\n",
        "Count: 432\n",
        "Execution Time (s):"
       ]
      },
      {
       "output_type": "stream",
       "stream": "stdout",
       "text": [
        " 1.61221718788\n",
        "Count: 433\n",
        "Execution Time (s):"
       ]
      },
      {
       "output_type": "stream",
       "stream": "stdout",
       "text": [
        " 1.61336708069\n",
        "Count: 434\n",
        "Execution Time (s):"
       ]
      },
      {
       "output_type": "stream",
       "stream": "stdout",
       "text": [
        " 1.5427839756\n",
        "Count: 435\n",
        "Execution Time (s):"
       ]
      },
      {
       "output_type": "stream",
       "stream": "stdout",
       "text": [
        " 1.48236298561\n",
        "Count: 436\n",
        "Execution Time (s):"
       ]
      },
      {
       "output_type": "stream",
       "stream": "stdout",
       "text": [
        " 1.52163505554\n",
        "Count: 437\n",
        "Execution Time (s):"
       ]
      },
      {
       "output_type": "stream",
       "stream": "stdout",
       "text": [
        " 1.59890079498\n",
        "Count: 438\n",
        "Execution Time (s):"
       ]
      },
      {
       "output_type": "stream",
       "stream": "stdout",
       "text": [
        " 1.58287811279\n",
        "Count: 439\n",
        "Execution Time (s):"
       ]
      },
      {
       "output_type": "stream",
       "stream": "stdout",
       "text": [
        " 1.55458807945\n",
        "Count: 440\n",
        "Execution Time (s):"
       ]
      },
      {
       "output_type": "stream",
       "stream": "stdout",
       "text": [
        " 1.74945688248\n",
        "Count: 441\n",
        "Execution Time (s):"
       ]
      },
      {
       "output_type": "stream",
       "stream": "stdout",
       "text": [
        " 1.70802092552\n",
        "Count: 442\n",
        "Execution Time (s):"
       ]
      },
      {
       "output_type": "stream",
       "stream": "stdout",
       "text": [
        " 1.7153570652\n",
        "Count: 443\n",
        "Execution Time (s):"
       ]
      },
      {
       "output_type": "stream",
       "stream": "stdout",
       "text": [
        " 1.84882807732\n",
        "Count: 444\n",
        "Execution Time (s):"
       ]
      },
      {
       "output_type": "stream",
       "stream": "stdout",
       "text": [
        " 1.77448987961\n",
        "Count: 445\n",
        "Execution Time (s):"
       ]
      },
      {
       "output_type": "stream",
       "stream": "stdout",
       "text": [
        " 1.77525305748\n",
        "Count: 446\n",
        "Execution Time (s):"
       ]
      },
      {
       "output_type": "stream",
       "stream": "stdout",
       "text": [
        " 1.86449694633\n",
        "Count: 447\n",
        "Execution Time (s):"
       ]
      },
      {
       "output_type": "stream",
       "stream": "stdout",
       "text": [
        " 1.86986708641\n",
        "Count: 448\n",
        "Execution Time (s):"
       ]
      },
      {
       "output_type": "stream",
       "stream": "stdout",
       "text": [
        " 1.86067008972\n",
        "Count: 449\n",
        "Execution Time (s):"
       ]
      },
      {
       "output_type": "stream",
       "stream": "stdout",
       "text": [
        " 2.12687110901\n",
        "Count: 450\n",
        "Execution Time (s):"
       ]
      },
      {
       "output_type": "stream",
       "stream": "stdout",
       "text": [
        " 1.91286802292\n",
        "Count: 451\n",
        "Execution Time (s):"
       ]
      },
      {
       "output_type": "stream",
       "stream": "stdout",
       "text": [
        " 2.02162694931\n",
        "Count: 452\n",
        "Execution Time (s):"
       ]
      },
      {
       "output_type": "stream",
       "stream": "stdout",
       "text": [
        " 2.33230280876\n",
        "Count: 453\n",
        "Execution Time (s):"
       ]
      },
      {
       "output_type": "stream",
       "stream": "stdout",
       "text": [
        " 2.6322247982\n",
        "Count: 454\n",
        "Execution Time (s):"
       ]
      },
      {
       "output_type": "stream",
       "stream": "stdout",
       "text": [
        " 2.83089184761\n",
        "Count: 455\n",
        "Execution Time (s):"
       ]
      },
      {
       "output_type": "stream",
       "stream": "stdout",
       "text": [
        " 2.98250102997\n",
        "Count: 456\n",
        "Execution Time (s):"
       ]
      },
      {
       "output_type": "stream",
       "stream": "stdout",
       "text": [
        " 3.17727994919\n",
        "Count: 457\n",
        "Execution Time (s):"
       ]
      },
      {
       "output_type": "stream",
       "stream": "stdout",
       "text": [
        " 3.3071949482\n",
        "Count: 458\n",
        "Execution Time (s):"
       ]
      },
      {
       "output_type": "stream",
       "stream": "stdout",
       "text": [
        " 3.15998506546\n",
        "Count: 459\n",
        "Execution Time (s):"
       ]
      },
      {
       "output_type": "stream",
       "stream": "stdout",
       "text": [
        " 3.50483703613\n",
        "Count: 460\n",
        "Execution Time (s):"
       ]
      },
      {
       "output_type": "stream",
       "stream": "stdout",
       "text": [
        " 3.70241212845\n",
        "Count: 461\n",
        "Execution Time (s):"
       ]
      },
      {
       "output_type": "stream",
       "stream": "stdout",
       "text": [
        " 4.02716207504\n",
        "Count: 462\n",
        "Execution Time (s):"
       ]
      },
      {
       "output_type": "stream",
       "stream": "stdout",
       "text": [
        " 4.16580605507\n",
        "Count: 463\n",
        "Execution Time (s):"
       ]
      },
      {
       "output_type": "stream",
       "stream": "stdout",
       "text": [
        " 4.33280801773\n",
        "Count: 464\n",
        "Execution Time (s):"
       ]
      },
      {
       "output_type": "stream",
       "stream": "stdout",
       "text": [
        " 4.42810487747\n",
        "Count: 465\n",
        "Execution Time (s):"
       ]
      },
      {
       "output_type": "stream",
       "stream": "stdout",
       "text": [
        " 4.34945893288\n",
        "Count: 466\n",
        "Execution Time (s):"
       ]
      },
      {
       "output_type": "stream",
       "stream": "stdout",
       "text": [
        " 4.86158204079\n",
        "Count: 467\n",
        "Execution Time (s):"
       ]
      },
      {
       "output_type": "stream",
       "stream": "stdout",
       "text": [
        " 5.40227818489\n",
        "Count: 468\n",
        "Execution Time (s):"
       ]
      },
      {
       "output_type": "stream",
       "stream": "stdout",
       "text": [
        " 5.59411096573\n",
        "Count: 469\n",
        "Execution Time (s):"
       ]
      },
      {
       "output_type": "stream",
       "stream": "stdout",
       "text": [
        " 5.57885599136\n",
        "Count: 470\n",
        "Execution Time (s):"
       ]
      },
      {
       "output_type": "stream",
       "stream": "stdout",
       "text": [
        " 5.72482800484\n",
        "Count: 471\n",
        "Execution Time (s):"
       ]
      },
      {
       "output_type": "stream",
       "stream": "stdout",
       "text": [
        " 6.13385295868\n",
        "Count: 472\n",
        "Execution Time (s):"
       ]
      },
      {
       "output_type": "stream",
       "stream": "stdout",
       "text": [
        " 5.94099402428\n",
        "Count: 473\n",
        "Execution Time (s):"
       ]
      },
      {
       "output_type": "stream",
       "stream": "stdout",
       "text": [
        " 6.6661658287\n",
        "Count: 474\n",
        "Execution Time (s):"
       ]
      },
      {
       "output_type": "stream",
       "stream": "stdout",
       "text": [
        " 5.90305185318\n",
        "Count: 475\n",
        "Execution Time (s):"
       ]
      },
      {
       "output_type": "stream",
       "stream": "stdout",
       "text": [
        " 6.86424183846\n",
        "Count: 476\n",
        "Execution Time (s):"
       ]
      },
      {
       "output_type": "stream",
       "stream": "stdout",
       "text": [
        " 7.31089687347\n",
        "Count: 477\n",
        "Execution Time (s):"
       ]
      },
      {
       "output_type": "stream",
       "stream": "stdout",
       "text": [
        " 7.23858880997\n",
        "Count: 478\n",
        "Execution Time (s):"
       ]
      },
      {
       "output_type": "stream",
       "stream": "stdout",
       "text": [
        " 7.06107783318\n",
        "Count: 479\n",
        "Execution Time (s):"
       ]
      },
      {
       "output_type": "stream",
       "stream": "stdout",
       "text": [
        " 8.12032699585\n",
        "Count: 480\n",
        "Execution Time (s):"
       ]
      },
      {
       "output_type": "stream",
       "stream": "stdout",
       "text": [
        " 7.23031711578\n",
        "Count: 481\n",
        "Execution Time (s):"
       ]
      },
      {
       "output_type": "stream",
       "stream": "stdout",
       "text": [
        " 7.59333086014\n",
        "Count: 482\n",
        "Execution Time (s):"
       ]
      },
      {
       "output_type": "stream",
       "stream": "stdout",
       "text": [
        " 8.08635592461\n",
        "Count: 483\n",
        "Execution Time (s):"
       ]
      },
      {
       "output_type": "stream",
       "stream": "stdout",
       "text": [
        " 8.00367903709\n",
        "Count: 484\n",
        "Execution Time (s):"
       ]
      },
      {
       "output_type": "stream",
       "stream": "stdout",
       "text": [
        " 8.41251993179\n",
        "Count: 485\n",
        "Execution Time (s):"
       ]
      },
      {
       "output_type": "stream",
       "stream": "stdout",
       "text": [
        " 8.83502697945\n",
        "Count: 486\n",
        "Execution Time (s):"
       ]
      },
      {
       "output_type": "stream",
       "stream": "stdout",
       "text": [
        " 8.71172189713\n",
        "Count: 487\n",
        "Execution Time (s):"
       ]
      },
      {
       "output_type": "stream",
       "stream": "stdout",
       "text": [
        " 8.51237297058\n",
        "Count: 488\n",
        "Execution Time (s):"
       ]
      },
      {
       "output_type": "stream",
       "stream": "stdout",
       "text": [
        " 8.98478603363\n",
        "Count: 489\n",
        "Execution Time (s):"
       ]
      },
      {
       "output_type": "stream",
       "stream": "stdout",
       "text": [
        " 9.33823418617\n",
        "Count: 490\n",
        "Execution Time (s):"
       ]
      },
      {
       "output_type": "stream",
       "stream": "stdout",
       "text": [
        " 9.71288108826\n",
        "Count: 491\n",
        "Execution Time (s):"
       ]
      },
      {
       "output_type": "stream",
       "stream": "stdout",
       "text": [
        " 9.97815799713\n",
        "Count: 492\n",
        "Execution Time (s):"
       ]
      },
      {
       "output_type": "stream",
       "stream": "stdout",
       "text": [
        " 10.2219161987\n",
        "Count: 493\n",
        "Execution Time (s):"
       ]
      },
      {
       "output_type": "stream",
       "stream": "stdout",
       "text": [
        " 9.83008098602\n",
        "Count: 494\n",
        "Execution Time (s):"
       ]
      },
      {
       "output_type": "stream",
       "stream": "stdout",
       "text": [
        " 10.4274659157\n",
        "Count: 495\n",
        "Execution Time (s):"
       ]
      },
      {
       "output_type": "stream",
       "stream": "stdout",
       "text": [
        " 10.4325621128\n",
        "Count: 496\n",
        "Execution Time (s):"
       ]
      },
      {
       "output_type": "stream",
       "stream": "stdout",
       "text": [
        " 10.6134388447\n",
        "Count: 497\n",
        "Execution Time (s):"
       ]
      },
      {
       "output_type": "stream",
       "stream": "stdout",
       "text": [
        " 10.4800050259\n",
        "Count: 498\n",
        "Execution Time (s):"
       ]
      },
      {
       "output_type": "stream",
       "stream": "stdout",
       "text": [
        " 10.7695879936\n",
        "Count: 499\n",
        "Execution Time (s):"
       ]
      },
      {
       "output_type": "stream",
       "stream": "stdout",
       "text": [
        " 10.8522028923\n",
        "Count: 500\n",
        "Execution Time (s):"
       ]
      },
      {
       "output_type": "stream",
       "stream": "stdout",
       "text": [
        " 10.6345798969\n",
        "Count: 501\n",
        "Execution Time (s):"
       ]
      },
      {
       "output_type": "stream",
       "stream": "stdout",
       "text": [
        " 11.5662779808\n",
        "Count: 502\n",
        "Execution Time (s):"
       ]
      },
      {
       "output_type": "stream",
       "stream": "stdout",
       "text": [
        " 11.3278510571\n",
        "Count: 503\n",
        "Execution Time (s):"
       ]
      },
      {
       "output_type": "stream",
       "stream": "stdout",
       "text": [
        " 12.9700031281\n",
        "Count: 504\n",
        "Execution Time (s):"
       ]
      },
      {
       "output_type": "stream",
       "stream": "stdout",
       "text": [
        " 12.0883538723\n",
        "Count: 505\n",
        "Execution Time (s):"
       ]
      },
      {
       "output_type": "stream",
       "stream": "stdout",
       "text": [
        " 12.3539931774\n",
        "Count: 506\n",
        "Execution Time (s):"
       ]
      },
      {
       "output_type": "stream",
       "stream": "stdout",
       "text": [
        " 12.5516560078\n",
        "Count: 507\n",
        "Execution Time (s):"
       ]
      },
      {
       "output_type": "stream",
       "stream": "stdout",
       "text": [
        " 12.676265955\n",
        "Count: 508\n",
        "Execution Time (s):"
       ]
      },
      {
       "output_type": "stream",
       "stream": "stdout",
       "text": [
        " 13.0807461739\n",
        "Count: 509\n",
        "Execution Time (s):"
       ]
      },
      {
       "output_type": "stream",
       "stream": "stdout",
       "text": [
        " 13.2742359638\n",
        "Count: 510\n",
        "Execution Time (s):"
       ]
      },
      {
       "output_type": "stream",
       "stream": "stdout",
       "text": [
        " 13.2761049271\n",
        "Count: 511\n",
        "Execution Time (s):"
       ]
      },
      {
       "output_type": "stream",
       "stream": "stdout",
       "text": [
        " 12.7680330276\n",
        "Count: 512\n",
        "Execution Time (s):"
       ]
      },
      {
       "output_type": "stream",
       "stream": "stdout",
       "text": [
        " 13.011081934\n",
        "Count: 513\n",
        "Execution Time (s):"
       ]
      },
      {
       "output_type": "stream",
       "stream": "stdout",
       "text": [
        " 13.046200037\n",
        "Count: 514\n",
        "Execution Time (s):"
       ]
      },
      {
       "output_type": "stream",
       "stream": "stdout",
       "text": [
        " 13.9242420197\n",
        "Count: 515\n",
        "Execution Time (s):"
       ]
      },
      {
       "output_type": "stream",
       "stream": "stdout",
       "text": [
        " 15.6870350838\n",
        "Count: 516\n",
        "Execution Time (s):"
       ]
      },
      {
       "output_type": "stream",
       "stream": "stdout",
       "text": [
        " 13.8966300488\n",
        "Count: 517\n",
        "Execution Time (s):"
       ]
      },
      {
       "output_type": "stream",
       "stream": "stdout",
       "text": [
        " 14.5472550392\n",
        "Count: 518\n",
        "Execution Time (s):"
       ]
      },
      {
       "output_type": "stream",
       "stream": "stdout",
       "text": [
        " 14.7267148495\n",
        "Count: 519\n",
        "Execution Time (s):"
       ]
      },
      {
       "output_type": "stream",
       "stream": "stdout",
       "text": [
        " 14.326597929\n",
        "Count: 520\n",
        "Execution Time (s):"
       ]
      },
      {
       "output_type": "stream",
       "stream": "stdout",
       "text": [
        " 14.0877320766\n",
        "Count: 521\n",
        "Execution Time (s):"
       ]
      },
      {
       "output_type": "stream",
       "stream": "stdout",
       "text": [
        " 14.8042128086\n",
        "Count: 522\n",
        "Execution Time (s):"
       ]
      },
      {
       "output_type": "stream",
       "stream": "stdout",
       "text": [
        " 14.6590211391\n",
        "Count: 523\n",
        "Execution Time (s):"
       ]
      },
      {
       "output_type": "stream",
       "stream": "stdout",
       "text": [
        " 14.6143651009\n",
        "Count: 524\n",
        "Execution Time (s):"
       ]
      },
      {
       "output_type": "stream",
       "stream": "stdout",
       "text": [
        " 15.5803458691\n",
        "Count: 525\n",
        "Execution Time (s):"
       ]
      },
      {
       "output_type": "stream",
       "stream": "stdout",
       "text": [
        " 15.0704278946\n",
        "Count: 526\n",
        "Execution Time (s):"
       ]
      },
      {
       "output_type": "stream",
       "stream": "stdout",
       "text": [
        " 13.3378040791\n",
        "Count: 527\n",
        "Execution Time (s):"
       ]
      },
      {
       "output_type": "stream",
       "stream": "stdout",
       "text": [
        " 12.5849981308\n",
        "Count: 528\n",
        "Execution Time (s):"
       ]
      },
      {
       "output_type": "stream",
       "stream": "stdout",
       "text": [
        " 12.7318022251\n",
        "Count: 529\n",
        "Execution Time (s):"
       ]
      },
      {
       "output_type": "stream",
       "stream": "stdout",
       "text": [
        " 12.4953660965\n",
        "Count: 530\n",
        "Execution Time (s):"
       ]
      },
      {
       "output_type": "stream",
       "stream": "stdout",
       "text": [
        " 13.2672810555\n",
        "Count: 531\n",
        "Execution Time (s):"
       ]
      },
      {
       "output_type": "stream",
       "stream": "stdout",
       "text": [
        " 13.3892550468\n",
        "Count: 532\n",
        "Execution Time (s):"
       ]
      },
      {
       "output_type": "stream",
       "stream": "stdout",
       "text": [
        " 13.3328020573\n",
        "Count: 533\n",
        "Execution Time (s):"
       ]
      },
      {
       "output_type": "stream",
       "stream": "stdout",
       "text": [
        " 14.0054249763\n",
        "Count: 534\n",
        "Execution Time (s):"
       ]
      },
      {
       "output_type": "stream",
       "stream": "stdout",
       "text": [
        " 14.0415139198\n",
        "Count: 535\n",
        "Execution Time (s):"
       ]
      },
      {
       "output_type": "stream",
       "stream": "stdout",
       "text": [
        " 14.993489027\n",
        "Count: 536\n",
        "Execution Time (s):"
       ]
      },
      {
       "output_type": "stream",
       "stream": "stdout",
       "text": [
        " 15.5142610073\n",
        "Count: 537\n",
        "Execution Time (s):"
       ]
      },
      {
       "output_type": "stream",
       "stream": "stdout",
       "text": [
        " 15.9883959293\n",
        "Count: 538\n",
        "Execution Time (s):"
       ]
      },
      {
       "output_type": "stream",
       "stream": "stdout",
       "text": [
        " 15.439440012\n",
        "Count: 539\n",
        "Execution Time (s):"
       ]
      },
      {
       "output_type": "stream",
       "stream": "stdout",
       "text": [
        " 15.9033839703\n",
        "Count: 540\n",
        "Execution Time (s):"
       ]
      },
      {
       "output_type": "stream",
       "stream": "stdout",
       "text": [
        " 14.9621880054\n",
        "Count: 541\n"
       ]
      }
     ],
     "prompt_number": 3
    },
    {
     "cell_type": "code",
     "collapsed": false,
     "input": [
      "#sanity check\n",
      "print len(extime_serial)\n",
      "print len(simrate_serial)"
     ],
     "language": "python",
     "metadata": {},
     "outputs": [
      {
       "output_type": "stream",
       "stream": "stdout",
       "text": [
        "541\n",
        "541\n"
       ]
      }
     ],
     "prompt_number": 4
    },
    {
     "cell_type": "heading",
     "level": 3,
     "metadata": {},
     "source": [
      "Multiprocessing"
     ]
    },
    {
     "cell_type": "code",
     "collapsed": false,
     "input": [
      "import multiprocessing\n",
      "from multiprocessing import Pool\n",
      "multiprocessing.cpu_count()"
     ],
     "language": "python",
     "metadata": {},
     "outputs": [
      {
       "output_type": "pyout",
       "prompt_number": 5,
       "text": [
        "4"
       ]
      }
     ],
     "prompt_number": 5
    },
    {
     "cell_type": "code",
     "collapsed": false,
     "input": [
      "#the simulation\n",
      "def f(darts):\n",
      "    extime_mp = []\n",
      "    simrate_mp = []\n",
      "    #count = 0\n",
      "    for number_of_darts in darts:\n",
      "        number_of_darts_in_circle = 0\n",
      "        \n",
      "        start_time = time()\n",
      "        \n",
      "        for n in range(number_of_darts):\n",
      "            x,y = uniform(0,1), uniform(0,1)\n",
      "            if sqrt((x - 0.5)**2 + (y - 0.5)**2) <= 0.5:\n",
      "                number_of_darts_in_circle += 1\n",
      "        \n",
      "        end_time = time()\n",
      "        execution_time = end_time - start_time\n",
      "        extime_mp.append(execution_time)\n",
      "        simrate_mp.append(number_of_darts/execution_time)\n",
      "        \n",
      "        pi_approx = 4 *number_of_darts_in_circle / float(number_of_darts)\n",
      "        #count += 1\n",
      "        \n",
      "        #print \"Pi Approximation:\", pi_approx\n",
      "        #print \"Number of Darts:\", number_of_darts\n",
      "        #print \"Execution Time (s):\", execution_time\n",
      "        #print \"Darts Thrown per Second:\", number_of_darts/execution_time\n",
      "        #print \"Count:\", count\n",
      "    return extime_mp, simrate_mp\n",
      "\n",
      "\n",
      "if __name__ == '__main__':\n",
      "    pool = Pool(processes=4)\n",
      "    result = pool.apply(f, [darts])\n",
      "    test = pool.map(f, [darts])"
     ],
     "language": "python",
     "metadata": {},
     "outputs": [],
     "prompt_number": 6
    },
    {
     "cell_type": "code",
     "collapsed": false,
     "input": [
      "#assign returned variables\n",
      "extime_mp = test[0][0]\n",
      "simrate_mp = test[0][1]\n",
      "\n",
      "#sanity check\n",
      "print len(extime_mp)\n",
      "print len(simrate_mp)"
     ],
     "language": "python",
     "metadata": {},
     "outputs": [
      {
       "output_type": "stream",
       "stream": "stdout",
       "text": [
        "541\n",
        "541\n"
       ]
      }
     ],
     "prompt_number": 7
    },
    {
     "cell_type": "heading",
     "level": 3,
     "metadata": {},
     "source": [
      "IP Cluster/Parallel"
     ]
    },
    {
     "cell_type": "code",
     "collapsed": false,
     "input": [
      "from IPython.display import display\n",
      "from IPython import parallel\n",
      "rc = parallel.Client()\n",
      "rc.block = True"
     ],
     "language": "python",
     "metadata": {},
     "outputs": [],
     "prompt_number": 17
    },
    {
     "cell_type": "code",
     "collapsed": false,
     "input": [
      "dview = rc[:]\n",
      "dview.block = True"
     ],
     "language": "python",
     "metadata": {},
     "outputs": [],
     "prompt_number": 18
    },
    {
     "cell_type": "code",
     "collapsed": false,
     "input": [
      "#distribute the darts array to the 4 engines\n",
      "dview.scatter('ndarts',darts)\n",
      "ndarts = len(dview['ndarts'])"
     ],
     "language": "python",
     "metadata": {},
     "outputs": [],
     "prompt_number": 40
    },
    {
     "cell_type": "code",
     "collapsed": false,
     "input": [
      "%%px \n",
      "#run the simulation using the magic %%px\n",
      "\n",
      "from random import uniform\n",
      "from math import sqrt\n",
      "from time import time\n",
      "\n",
      "extime_parallel=[]\n",
      "simrate_parallel=[]\n",
      "#count = 0\n",
      "\n",
      "for number_of_darts in ndarts:\n",
      "    number_of_darts_in_circle = 0\n",
      "    start_time = time()\n",
      "            \n",
      "    for n in range(number_of_darts):\n",
      "        x,y = uniform(0,1), uniform(0,1)\n",
      "        if sqrt((x - 0.5)**2 + (y - 0.5)**2) <= 0.5:\n",
      "            number_of_darts_in_circle += 1\n",
      "            \n",
      "    end_time = time()\n",
      "    execution_time = end_time - start_time\n",
      "    extime_parallel.append(execution_time)\n",
      "    simrate_parallel.append(number_of_darts/execution_time)\n",
      "            \n",
      "    pi_approx = 4 *number_of_darts_in_circle / float(number_of_darts)\n",
      "            \n",
      "    #print \"Pi Approximation:\", pi_approx\n",
      "    #print \"Number of Darts:\", number_of_darts\n",
      "    #print \"Execution Time (s):\", execution_time\n",
      "    #print \"Darts Thrown per Second:\", number_of_darts/execution_time\n",
      "    #print \"Count:\", count\n"
     ],
     "language": "python",
     "metadata": {},
     "outputs": [],
     "prompt_number": 42
    },
    {
     "cell_type": "code",
     "collapsed": false,
     "input": [
      "#assign returned variables\n",
      "extime_parallel = dview.gather('extime_parallel')\n",
      "simrate_parallel = dview.gather('simrate_parallel')"
     ],
     "language": "python",
     "metadata": {},
     "outputs": [],
     "prompt_number": 43
    },
    {
     "cell_type": "code",
     "collapsed": false,
     "input": [
      "#sanity check\n",
      "print len(extime_parallel)\n",
      "print len(simrate_parallel)"
     ],
     "language": "python",
     "metadata": {},
     "outputs": [
      {
       "output_type": "stream",
       "stream": "stdout",
       "text": [
        "541\n",
        "541\n"
       ]
      }
     ],
     "prompt_number": 44
    },
    {
     "cell_type": "heading",
     "level": 3,
     "metadata": {},
     "source": [
      "Plotting"
     ]
    },
    {
     "cell_type": "code",
     "collapsed": false,
     "input": [
      "%pylab inline\n",
      "import matplotlib.pyplot as plt\n",
      "import numpy as np"
     ],
     "language": "python",
     "metadata": {},
     "outputs": [
      {
       "output_type": "stream",
       "stream": "stdout",
       "text": [
        "\n",
        "Welcome to pylab, a matplotlib-based Python environment [backend: module://IPython.zmq.pylab.backend_inline].\n",
        "For more information, type 'help(pylab)'.\n"
       ]
      }
     ],
     "prompt_number": 45
    },
    {
     "cell_type": "code",
     "collapsed": false,
     "input": [
      "#plot execution time on left axis for serial\n",
      "f1, axL = plt.subplots()\n",
      "line1 = axL.plot(darts, extime_serial,label='Serial',linewidth=2,color='r')\n",
      "axL.minorticks_on()\n",
      "axL.set_xscale('log')\n",
      "axL.set_yscale('log')\n",
      "axL.set_xlabel('Darts Thrown')\n",
      "axL.set_ylabel('Execution Time (seconds), solid line')\n",
      "\n",
      "#add multiprocessing plot\n",
      "line2 = axL.plot(darts, extime_mp,label='Multiprocessing',linewidth=2,color='c')\n",
      "\n",
      "#add parallel plot\n",
      "line3 = axL.plot(darts, extime_parallel,label='IPcluster',linewidth=2,color='g')\n",
      "axL.legend(loc='best',fontsize='10')\n",
      "\n",
      "#add second axis for simulation rate, serial\n",
      "axR = axL.twinx()\n",
      "line4 = axR.plot(darts, simrate_serial,linewidth=2,linestyle='--',color='r')\n",
      "axR.minorticks_on()\n",
      "axR.set_ylabel('Simulation Rate (darts/second), dashed line')\n",
      "axR.set_yscale('log')\n",
      "\n",
      "#add multiprocessing plot\n",
      "line5 = axR.plot(darts, simrate_mp,linewidth=2,linestyle='--',color='c')\n",
      "\n",
      "#add parallel plot\n",
      "line6 = axR.plot(darts, simrate_parallel,linewidth=2,linestyle='--',color='g')\n",
      "\n",
      "#save figure\n",
      "plt.show()\n",
      "savefig('parallel.png')"
     ],
     "language": "python",
     "metadata": {},
     "outputs": [
      {
       "output_type": "display_data",
       "png": "[encoded data removed]"
      }
     ],
     "prompt_number": 48
    },
    {
     "cell_type": "code",
     "collapsed": false,
     "input": [],
     "language": "python",
     "metadata": {},
     "outputs": []
    }
   ],
   "metadata": {}
  }
 ]
}