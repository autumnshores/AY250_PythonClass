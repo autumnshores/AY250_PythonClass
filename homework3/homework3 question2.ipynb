{
 "metadata": {
  "name": "homework3 question2"
 },
 "nbformat": 3,
 "nbformat_minor": 0,
 "worksheets": [
  {
   "cells": [
    {
     "cell_type": "code",
     "collapsed": false,
     "input": [
      "%pylab\n",
      "import matplotlib.pyplot as plt\n",
      "import numpy as np"
     ],
     "language": "python",
     "metadata": {},
     "outputs": [
      {
       "output_type": "stream",
       "stream": "stdout",
       "text": [
        "\n",
        "Welcome to pylab, a matplotlib-based Python environment [backend: MacOSX].\n",
        "For more information, type 'help(pylab)'.\n"
       ]
      }
     ],
     "prompt_number": 1
    },
    {
     "cell_type": "code",
     "collapsed": false,
     "input": [
      "dt = [('mjd', np.float64), ('stock', np.float64)]\n",
      "google_data = np.loadtxt('/Users/Francine/python-seminar/Homeworks/hw_3_data/google_data.txt', dt, skiprows = 1)\n",
      "print google_data[0] # sanity check\n",
      "yahoo_data = np.loadtxt('/Users/Francine/python-seminar/Homeworks/hw_3_data/yahoo_data.txt', dt, skiprows = 1)\n",
      "print yahoo_data[0]\n",
      "dt2 = [('mjd', np.float64), ('temp', np.float64)]\n",
      "ny_temps = np.loadtxt('/Users/Francine/python-seminar/Homeworks/hw_3_data/ny_temps.txt', dt2, skiprows = 1)\n",
      "print ny_temps[0]"
     ],
     "language": "python",
     "metadata": {},
     "outputs": [
      {
       "output_type": "stream",
       "stream": "stdout",
       "text": [
        "(55463.0, 527.29)\n",
        "(55463.0, 14.5)\n",
        "(48988.0, 53.0)\n"
       ]
      }
     ],
     "prompt_number": 2
    },
    {
     "cell_type": "code",
     "collapsed": false,
     "input": [
      "f1, axL = plt.subplots()\n",
      "line1 = axL.plot(yahoo_data['mjd'], yahoo_data['stock'],label='Yahoo! Stock Value',linewidth=2,color='#483d8b')\n",
      "axL.minorticks_on()\n",
      "axL.set_xlim([48800,55600])\n",
      "axL.set_ylim([-20,780])\n",
      "axL.set_title('New York Temperature, Google, and Yahoo!')       \n",
      "axL.set_xlabel('Date (MJD)')           \n",
      "axL.set_ylabel('Value (Dollars)')\n",
      "\n",
      "line2 = axL.plot(google_data['mjd'], google_data['stock'],label='Google Stock Value',linewidth=2,color='b')\n",
      "\n",
      "axR = axL.twinx()\n",
      "line3 = axR.plot(ny_temps['mjd'], ny_temps['temp'],label='NY Mon. High Temp',linewidth=2,linestyle='--',color='r')\n",
      "axR.minorticks_on()\n",
      "axR.set_xlim([48800,55600])\n",
      "axR.set_ylim([-150,100])\n",
      "axR.set_ylabel('Temperature ($^\\circ$F)')\n",
      "\n",
      "lines = line1+line2+line3\n",
      "labs = [l.get_label() for l in lines]\n",
      "legend = axL.legend(lines, labs, loc='center left',fontsize='10')\n",
      "legend.set_frame_on(False)\n",
      "\n",
      "plt.show()\n",
      "savefig('question2.png')"
     ],
     "language": "python",
     "metadata": {},
     "outputs": [],
     "prompt_number": 3
    },
    {
     "cell_type": "code",
     "collapsed": false,
     "input": [],
     "language": "python",
     "metadata": {},
     "outputs": []
    }
   ],
   "metadata": {}
  }
 ]
}