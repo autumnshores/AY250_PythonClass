{
 "metadata": {
  "name": "homework3 question1"
 },
 "nbformat": 3,
 "nbformat_minor": 0,
 "worksheets": [
  {
   "cells": [
    {
     "cell_type": "code",
     "collapsed": false,
     "input": [
      "%pylab\n",
      "import matplotlib.pyplot as plt\n",
      "import numpy as np"
     ],
     "language": "python",
     "metadata": {},
     "outputs": [
      {
       "output_type": "stream",
       "stream": "stdout",
       "text": [
        "\n",
        "Welcome to pylab, a matplotlib-based Python environment [backend: MacOSX].\n",
        "For more information, type 'help(pylab)'.\n"
       ]
      }
     ],
     "prompt_number": 1
    },
    {
     "cell_type": "code",
     "collapsed": false,
     "input": [
      "#load datasets\n",
      "dt = [('frac_followed', np.float64), ('frac_observed', np.float64), ('frac_observed_uncertainty', np.float64)]\n",
      "efficiency = np.loadtxt('/Users/Francine/python-seminar/Homeworks/hw_3_data/HW31_example/Efficiency.txt', dt, skiprows = 1)\n",
      "print efficiency[0]\n",
      "purity = np.loadtxt('/Users/Francine/python-seminar/Homeworks/hw_3_data/HW31_example/Purity.txt', dt, skiprows = 2)\n",
      "print purity[0]"
     ],
     "language": "python",
     "metadata": {},
     "outputs": [
      {
       "output_type": "stream",
       "stream": "stdout",
       "text": [
        "(0.0, 0.0, 0.0)\n",
        "(0.00746268656716418, 0.17, 0.377525168068637)\n"
       ]
      }
     ],
     "prompt_number": 2
    },
    {
     "cell_type": "code",
     "collapsed": false,
     "input": [
      "#start plotting\n",
      "f, (ax1, ax2) = plt.subplots(1, 2, figsize=(10,6))\n",
      "\n",
      "#add Efficiency plot\n",
      "ax1.plot(efficiency['frac_followed'], efficiency['frac_observed'],color='k')\n",
      "ax1.set_ylim([-0.05,1.05])\n",
      "ax1.set_xlim([-0.05,1.05])\n",
      "ax1.set_title('Efficiency')\n",
      "ax1.set_xlabel('Fraction of GRBs followed up')           \n",
      "ax1.set_ylabel('Fraction of high (z > 4) GRBs observed')\n",
      "\n",
      "#add and fill uncertainty plots\n",
      "top = efficiency['frac_observed']+efficiency['frac_observed_uncertainty']\n",
      "bottom = efficiency['frac_observed']-efficiency['frac_observed_uncertainty']\n",
      "ax1.plot(efficiency['frac_followed'], top, color='k',linewidth=0.5)\n",
      "ax1.plot(efficiency['frac_followed'], bottom, color='k',linewidth=0.5)\n",
      "ax1.fill_between(efficiency['frac_followed'],efficiency['frac_observed'],top,color='#d3d3d3')\n",
      "ax1.fill_between(efficiency['frac_followed'],efficiency['frac_observed'],bottom,color='#d3d3d3')\n",
      "\n",
      "#add random guessing line\n",
      "x = arange(0,1.2,0.2)\n",
      "y = x\n",
      "ax1.plot(x,y,color='k')\n",
      "\n",
      "#add arrow and text at random guessing line\n",
      "#ax1.annotate('Random', xy=(0.81, 0.82), xytext=(0.62, 0.58),\n",
      "            #arrowprops=dict(facecolor='black', shrink=0.05))\n",
      "ax1.arrow(0.81, 0.61, 0.0, 0.15, fc=\"k\", ec=\"k\", head_width=0.05, head_length=0.05, width=0.015)\n",
      "ax1.text(0.7,0.58,'Random') \n",
      "ax1.text(0.7,0.53,'guessing')\n",
      "\n",
      "#add dotted line, arrow and text at x = 0.2 and y intersect\n",
      "doty = arange(-0.05,1.17,0.62)\n",
      "dotx = [0.2,0.2]\n",
      "ax1.plot(dotx,doty,color='k',linestyle='--')\n",
      "ax1.annotate('Follow up 20% of', xy=(0.185, 0.57), xytext=(0.5, 0.25),\n",
      "            arrowprops=dict(facecolor='black', shrink=0.05))\n",
      "ax1.text(0.5,0.2,'bursts to capture ~55%')\n",
      "ax1.text(0.5,0.15,'of high-z events')\n",
      "\n",
      "#add Purity plot\n",
      "ax2.plot(purity['frac_followed'], purity['frac_observed'],color='k')\n",
      "ax2.set_ylim([-0.05,1.05])\n",
      "ax2.set_xlim([-0.05,1.05])\n",
      "ax2.set_title('Purity')\n",
      "ax2.set_xlabel('Fraction of GRBs followed up')           \n",
      "ax2.set_ylabel('Percent of observed GRBs that are high z (z > 4)')\n",
      "\n",
      "#add and fill uncertainty plots\n",
      "top2 = purity['frac_observed']+purity['frac_observed_uncertainty']\n",
      "bottom2 = purity['frac_observed']-purity['frac_observed_uncertainty']\n",
      "ax2.plot(purity['frac_followed'], top2, color='k',linewidth=0.5)\n",
      "ax2.plot(purity['frac_followed'], bottom2, color='k',linewidth=0.5)\n",
      "ax2.fill_between(purity['frac_followed'],purity['frac_observed'],top2,color='#d3d3d3')\n",
      "ax2.fill_between(purity['frac_followed'],purity['frac_observed'],bottom2,color='#d3d3d3')\n",
      "\n",
      "#add random guessing line\n",
      "x2 = arange(0.,1.2,0.2)\n",
      "y2 = [(18.0/135.0),(18.0/135.0),(18.0/135.0),(18.0/135.0),(18.0/135.0),(18.0/135.0)]\n",
      "ax2.plot(x2,y2,color='k')\n",
      "\n",
      "#add arrow and text at random guessing line\n",
      "ax2.arrow(0.8, 0.34, -0.15, -0.15, fc=\"k\", ec=\"k\", head_width=0.05, head_length=0.05, width=0.015,head_starts_at_zero=True)\n",
      "ax2.text(0.65,0.4,'Random') \n",
      "ax2.text(0.65,0.35,'guessing')\n",
      "\n",
      "#add dotted line, arrow and text at x = 0.2 and y intersect\n",
      "doty2 = arange(-0.05,0.42,0.45)\n",
      "dotx2 = [0.2,0.2]\n",
      "ax2.plot(dotx2,doty2,color='k',linestyle='--')\n",
      "ax2.annotate('them will be high-z', xy=(0.2, 0.36), xytext=(0.2, 0.7),\n",
      "            arrowprops=dict(facecolor='black', shrink=0.05))\n",
      "ax2.text(0.2,0.75,'followed up, ~40% of')\n",
      "ax2.text(0.2,0.8,'If 20% of events are')\n",
      "\n",
      "#save figure\n",
      "plt.show()\n",
      "savefig('question1.png')"
     ],
     "language": "python",
     "metadata": {},
     "outputs": [],
     "prompt_number": 12
    },
    {
     "cell_type": "code",
     "collapsed": false,
     "input": [],
     "language": "python",
     "metadata": {},
     "outputs": []
    }
   ],
   "metadata": {}
  }
 ]
}