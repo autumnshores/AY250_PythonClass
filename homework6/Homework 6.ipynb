{
 "metadata": {
  "name": "Homework 6"
 },
 "nbformat": 3,
 "nbformat_minor": 0,
 "worksheets": [
  {
   "cells": [
    {
     "cell_type": "code",
     "collapsed": false,
     "input": [
      "#Question 1\n",
      "\n",
      "import sqlite3\n",
      "from numpy import loadtxt, array, log2\n",
      "import pandas as pd\n",
      "%pylab inline\n",
      "\n",
      "\n",
      "#load the data\n",
      "top_airports = loadtxt(\"top_airports.csv\", skiprows=1, delimiter=\",\", dtype=str, usecols = (0,3,4)) #dataset 1\n",
      "ICAO_airports = loadtxt(\"ICAO_airports.csv\", skiprows=1, delimiter=\",\", dtype=str, usecols = (1,3,4,5), comments='%') # dataset 2\n",
      "\n",
      "\n",
      "#create database and import dataset 1 onto database\n",
      "connection = sqlite3.connect(\"/tmp/example.db\")\n",
      "cursor = connection.cursor()\n",
      "sql_cmd = \"\"\"CREATE TABLE Top_50_US_Airports_Info (id INTEGER PRIMARY KEY AUTOINCREMENT,\n",
      "    Name TEXT, City TEXT, ICAOcode TEXT)\"\"\"\n",
      "cursor.execute(sql_cmd)\n",
      "\n",
      "for airport in top_airports:\n",
      "    if (airport[0] and airport[1] and airport[2]):\n",
      "        airport_city = airport[0]\n",
      "        airport_ICAO = airport[1]\n",
      "        airport_name = airport[2]\n",
      "        data = (airport_name, airport_city, airport_ICAO)\n",
      "        sql_cmd = (\"INSERT INTO Top_50_US_Airports_Info (Name, City, ICAOcode) VALUES \" + str(data))\n",
      "        cursor.execute(sql_cmd)\n",
      "   \n",
      "        \n",
      "#run query on database to check\n",
      "sql_cmd = \"SELECT * FROM Top_50_US_Airports_Info WHERE City like 'chicago'\"\n",
      "cursor.execute(sql_cmd)\n",
      "db_info = cursor.fetchall()\n",
      "for entry in db_info: print entry\n",
      "connection.commit() #save database as is\n",
      "\n",
      "\n",
      "#create another database and import dataset 2 onto database\n",
      "connection = sqlite3.connect(\"/tmp/example.db\")\n",
      "cursor = connection.cursor()\n",
      "sql_cmd = \"\"\"CREATE TABLE ICAO_airport (id INTEGER PRIMARY KEY AUTOINCREMENT,\n",
      "    Name TEXT, ICAOcode TEXT, Latitude FLOAT, Longitude FLOAT)\"\"\"\n",
      "cursor.execute(sql_cmd)\n",
      "\n",
      "for airport in ICAO_airports:\n",
      "    if (airport[0] and airport[1] and airport[2] and airport[3]):\n",
      "        airport_ICAO = airport[0]\n",
      "        airport_name = airport[1]\n",
      "        airport_lat = airport[2]\n",
      "        airport_long = airport[3]\n",
      "        data = (airport_name, airport_ICAO, airport_lat, airport_long)\n",
      "        sql_cmd = (\"INSERT INTO ICAO_airport (Name, ICAOcode, Latitude, Longitude) VALUES \" + str(data))\n",
      "        cursor.execute(sql_cmd)\n",
      "  \n",
      "        \n",
      "#run query on database to check\n",
      "sql_cmd = \"SELECT * FROM ICAO_airport WHERE ICAOcode like 'KIND'\"\n",
      "cursor.execute(sql_cmd)\n",
      "db_info = cursor.fetchall()\n",
      "for entry in db_info: print entry\n",
      "connection.commit() #save database as is"
     ],
     "language": "python",
     "metadata": {},
     "outputs": [
      {
       "output_type": "stream",
       "stream": "stdout",
       "text": [
        "\n",
        "Welcome to pylab, a matplotlib-based Python environment [backend: module://IPython.zmq.pylab.backend_inline].\n",
        "For more information, type 'help(pylab)'.\n"
       ]
      },
      {
       "ename": "OperationalError",
       "evalue": "table Top_50_US_Airports_Info already exists",
       "output_type": "pyerr",
       "traceback": [
        "\u001b[0;31m---------------------------------------------------------------------------\u001b[0m\n\u001b[0;31mOperationalError\u001b[0m                          Traceback (most recent call last)",
        "\u001b[0;32m<ipython-input-1-f41bcdcc1aeb>\u001b[0m in \u001b[0;36m<module>\u001b[0;34m()\u001b[0m\n\u001b[1;32m     17\u001b[0m sql_cmd = \"\"\"CREATE TABLE Top_50_US_Airports_Info (id INTEGER PRIMARY KEY AUTOINCREMENT,\n\u001b[1;32m     18\u001b[0m     Name TEXT, City TEXT, ICAOcode TEXT)\"\"\"\n\u001b[0;32m---> 19\u001b[0;31m \u001b[0mcursor\u001b[0m\u001b[0;34m.\u001b[0m\u001b[0mexecute\u001b[0m\u001b[0;34m(\u001b[0m\u001b[0msql_cmd\u001b[0m\u001b[0;34m)\u001b[0m\u001b[0;34m\u001b[0m\u001b[0m\n\u001b[0m\u001b[1;32m     20\u001b[0m \u001b[0;34m\u001b[0m\u001b[0m\n\u001b[1;32m     21\u001b[0m \u001b[0;32mfor\u001b[0m \u001b[0mairport\u001b[0m \u001b[0;32min\u001b[0m \u001b[0mtop_airports\u001b[0m\u001b[0;34m:\u001b[0m\u001b[0;34m\u001b[0m\u001b[0m\n",
        "\u001b[0;31mOperationalError\u001b[0m: table Top_50_US_Airports_Info already exists"
       ]
      }
     ],
     "prompt_number": 1
    },
    {
     "cell_type": "code",
     "collapsed": false,
     "input": [
      "#create a new table\n",
      "connection = sqlite3.connect(\"/tmp/example.db\")\n",
      "cursor = connection.cursor()\n",
      "sql_cmd = \"\"\"CREATE TABLE join_airports_table (id INTEGER PRIMARY KEY AUTOINCREMENT,\n",
      "    Name TEXT, City TEXT, ICAOcode TEXT, Latitude FLOAT, Longitude FLOAT)\"\"\"\n",
      "cursor.execute(sql_cmd)\n",
      "\n",
      "\n",
      "#join both tables here and insert into newly created table\n",
      "sql_cmd = (\"\"\"INSERT INTO join_airports_table (Name, City, ICAOcode, Latitude, Longitude) SELECT Top_50_US_Airports_Info.Name, Top_50_US_Airports_Info.City, \n",
      "    Top_50_US_Airports_Info.ICAOcode, ICAO_airport.Latitude, ICAO_airport.Longitude\n",
      "    FROM Top_50_US_Airports_Info, ICAO_airport WHERE  \n",
      "    Top_50_US_Airports_Info.ICAOcode = ICAO_airport.ICAOcode\"\"\")\n",
      "cursor.execute(sql_cmd)"
     ],
     "language": "python",
     "metadata": {},
     "outputs": [
      {
       "output_type": "pyout",
       "prompt_number": 22,
       "text": [
        "<sqlite3.Cursor at 0x106e11960>"
       ]
      }
     ],
     "prompt_number": 22
    },
    {
     "cell_type": "code",
     "collapsed": false,
     "input": [
      "#run query on database to check\n",
      "sql_cmd = \"SELECT * FROM join_airports_table WHERE ICAOcode like 'KIND'\"\n",
      "cursor.execute(sql_cmd)\n",
      "db_info = cursor.fetchall()\n",
      "for entry in db_info: print entry\n",
      "connection.commit() #save database as is\n",
      "#success!"
     ],
     "language": "python",
     "metadata": {},
     "outputs": [
      {
       "output_type": "stream",
       "stream": "stdout",
       "text": [
        "(50, u'Indianapolis International Airport', u'Indianapolis', u'KIND', 39.71730042, -86.29440308)\n"
       ]
      }
     ],
     "prompt_number": 23
    },
    {
     "cell_type": "code",
     "collapsed": false,
     "input": [
      "#Question 2\n",
      "\n",
      "#create a new table for weather information\n",
      "connection = sqlite3.connect(\"/tmp/example.db\")\n",
      "cursor = connection.cursor()\n",
      "sql_cmd = \"\"\"CREATE TABLE weather_information (id INTEGER PRIMARY KEY AUTOINCREMENT,\n",
      "    Day TEXT, MaxTemp INT, MinTemp INT, MaxHumidity INT, MinHumidity INT, Precipitation TEXT, CloudCover INT)\"\"\"\n",
      "cursor.execute(sql_cmd)"
     ],
     "language": "python",
     "metadata": {},
     "outputs": [
      {
       "output_type": "pyout",
       "prompt_number": 35,
       "text": [
        "<sqlite3.Cursor at 0x107e51d50>"
       ]
      }
     ],
     "prompt_number": 35
    },
    {
     "cell_type": "code",
     "collapsed": false,
     "input": [
      "#Question 3\n",
      "\n",
      "#load data\n",
      "weather_info = loadtxt(\"Weather.csv\", skiprows=1, delimiter=\",\", dtype=str, usecols = (0,1,3,7,9,19,20))\n",
      "\n",
      "for day in weather_info:\n",
      "    if (day[0] and day[1] and day[2] and day[3] and\n",
      "            day[4] and day[5] and day[6]):\n",
      "        weather_day = day[0]\n",
      "        weather_maxtemp = day[1]\n",
      "        weather_mintemp = day[2]\n",
      "        weather_maxhumidity = day[3]\n",
      "        weather_minhumidity = day[4]\n",
      "        weather_precip = day[5]\n",
      "        weather_cloud = day[6]\n",
      "        data = (weather_day, weather_maxtemp, weather_mintemp, weather_maxhumidity, weather_minhumidity, weather_precip, weather_cloud)\n",
      "        sql_cmd = (\"INSERT INTO weather_information (Day, MaxTemp, MinTemp, MaxHumidity, MinHumidity, Precipitation, CloudCover) VALUES \" + str(data))\n",
      "        cursor.execute(sql_cmd)\n",
      "\n",
      "#run query on database to check\n",
      "sql_cmd = \"SELECT * FROM weather_information WHERE CloudCover > 6\"\n",
      "cursor.execute(sql_cmd)\n",
      "db_info = cursor.fetchall()\n",
      "for entry in db_info: print entry\n",
      "connection.commit() #save database as is"
     ],
     "language": "python",
     "metadata": {},
     "outputs": [
      {
       "output_type": "stream",
       "stream": "stdout",
       "text": [
        "(12, u'9/12/13', 71, 59, 84, 61, u'0', 7)\n",
        "(14, u'9/14/13', 66, 57, 87, 67, u'0', 7)\n"
       ]
      }
     ],
     "prompt_number": 36
    },
    {
     "cell_type": "code",
     "collapsed": false,
     "input": [],
     "language": "python",
     "metadata": {},
     "outputs": []
    }
   ],
   "metadata": {}
  }
 ]
}