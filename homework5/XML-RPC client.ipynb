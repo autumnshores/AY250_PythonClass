{
 "metadata": {
  "name": "XML-RPC client"
 },
 "nbformat": 3,
 "nbformat_minor": 0,
 "worksheets": [
  {
   "cells": [
    {
     "cell_type": "code",
     "collapsed": false,
     "input": [
      "%pylab inline\n",
      "import matplotlib.pyplot as plt\n",
      "import numpy as np\n",
      "import xmlrpclib, sys\n",
      "import Image\n",
      "\n",
      "host, port = \"\", 5021\n",
      "server = xmlrpclib.ServerProxy(\"http://%s:%d\" % (host, port))\n",
      "available_methods = server.system.listMethods()\n",
      "print \"Available methods from server:\"\n",
      "for method in available_methods:\n",
      "    print \"\\t\" + method\n",
      "\n",
      "#get image array, save it and change it to a list to send over the connection\n",
      "array = plt.imread('saturn_0026.jpg')\n",
      "l,h,d = array.shape\n",
      "changetolist = array.tolist()\n",
      "im = Image.fromarray(array)\n",
      "im.save(\"image_original_client.jpg\")\n",
      "\n",
      "#server method 1: switch RGB channels, save image\n",
      "result = server.switch_channels(changetolist,l,h,d)\n",
      "resultarray = np.array(result,dtype=uint8)\n",
      "im2 = Image.fromarray(resultarray)\n",
      "im2.save(\"image_switchedchannels_client.jpg\")\n",
      "\n",
      "#server method 2: add or subtract a value in each channel, save image\n",
      "rnum = -10\n",
      "gnum = -20\n",
      "bnum = 15\n",
      "result2 = server.add_subtract(changetolist,l,h,d,rnum,gnum,bnum)\n",
      "result2array = np.array(result2,dtype=uint8)\n",
      "im3 = Image.fromarray(result2array)\n",
      "im3.save(\"image_addsubtract_red\"+str(rnum)+\"_green\"+str(gnum)+\"_blue\"+str(bnum)+\"_client.jpg\")\n",
      "\n",
      "#server method 3: remove a channel completely, save image\n",
      "chan = 'red'\n",
      "result3 = server.remove_channel(changetolist,l,h,d,chan)\n",
      "result3array = np.array(result3,dtype=uint8)\n",
      "im4 = Image.fromarray(result3array)\n",
      "im4.save(\"image_remove_channel\"+chan+\"_client.jpg\")"
     ],
     "language": "python",
     "metadata": {},
     "outputs": [
      {
       "output_type": "stream",
       "stream": "stdout",
       "text": [
        "\n",
        "Welcome to pylab, a matplotlib-based Python environment [backend: module://IPython.zmq.pylab.backend_inline].\n",
        "For more information, type 'help(pylab)'.\n"
       ]
      },
      {
       "output_type": "stream",
       "stream": "stdout",
       "text": [
        "Available methods from server:\n",
        "\tadd_subtract\n",
        "\tremove_channel\n",
        "\tswitch_channels\n",
        "\tsystem.listMethods\n",
        "\tsystem.methodHelp\n",
        "\tsystem.methodSignature\n",
        "\tsystem.multicall\n"
       ]
      }
     ],
     "prompt_number": 1
    },
    {
     "cell_type": "code",
     "collapsed": false,
     "input": [],
     "language": "python",
     "metadata": {},
     "outputs": []
    }
   ],
   "metadata": {}
  }
 ]
}