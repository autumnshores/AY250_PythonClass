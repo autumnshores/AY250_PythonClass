{
 "metadata": {
  "name": "XML-RPC server"
 },
 "nbformat": 3,
 "nbformat_minor": 0,
 "worksheets": [
  {
   "cells": [
    {
     "cell_type": "code",
     "collapsed": false,
     "input": [
      "%pylab inline\n",
      "import matplotlib.pyplot as plt\n",
      "import numpy as np\n",
      "import SimpleXMLRPCServer\n",
      "import xmlrpclib\n",
      "import Image\n",
      "\n",
      "\n",
      "class Image_Manipulation:\n",
      "    def switch_channels(self, lst, l, h, d):\n",
      "        changetoarray = np.array(lst, dtype=uint8)\n",
      "        Im = Image.fromarray(changetoarray)\n",
      "        Im.save(\"image_original_received_server.jpg\")\n",
      "        if d == 3: #rgb image\n",
      "            switchedchans = np.zeros((l,h,d),dtype=uint8)\n",
      "            switchedchans[:,:,0] = changetoarray[:,:,1]\n",
      "            switchedchans[:,:,1] = changetoarray[:,:,2]\n",
      "            switchedchans[:,:,2] = changetoarray[:,:,0]\n",
      "            changebacktolist = switchedchans.tolist()\n",
      "            Im2 = Image.fromarray(switchedchans)\n",
      "            Im2.save(\"image_switchedchannels_server.jpg\")\n",
      "        #return changebacktolist\n",
      "        elif d == 1: #grayscale image\n",
      "            converttorgb = np.zeros((l,h,3),dtype=uint8)\n",
      "            converttorgb[:,:,0] = changetoarray\n",
      "            converttorgb[:,:,1] = changetoarray\n",
      "            converttorgb[:,:,2] = changetoarray\n",
      "            Im2 = Image.fromarray(converttorgb)\n",
      "            Im2.save(\"image_switchedchannels_grayscale_server.jpg\") #since grayscale converted to rgb image has equal values in all channels, this method\n",
      "                                                          #would not produce a different result\n",
      "            changebacktolist = converttorgb.tolist()\n",
      "        return changebacktolist            \n",
      "    \n",
      "    def add_subtract(self, lst2, l2, h2, d2, rnum, gnum, bnum):\n",
      "        changetoarray2 = np.array(lst2, dtype=uint8)\n",
      "        Im3 = Image.fromarray(changetoarray2)\n",
      "        Im3.save(\"image_original_received_server.jpg\")\n",
      "        if d2 == 3: #rgb image\n",
      "            changetoarray2[:,:,0] = changetoarray2[:,:,0] + rnum\n",
      "            changetoarray2[:,:,1] = changetoarray2[:,:,1] + gnum\n",
      "            changetoarray2[:,:,2] = changetoarray2[:,:,2] + bnum\n",
      "            Im4 = Image.fromarray(changetoarray2)\n",
      "            Im4.save(\"image_addsubtract_red\"+str(rnum)+\"_green\"+str(gnum)+\"_blue\"+str(bnum)+\"_server.jpg\")\n",
      "            changebacktolist2 = changetoarray2.tolist()\n",
      "        #return changebacktolist2\n",
      "        elif d2 == 1: #grayscale image\n",
      "            converttorgb2 = np.zeros((l2,h2,3),dtype=uint8)\n",
      "            converttorgb2[:,:,0] = changetoarray2 + rnum\n",
      "            converttorgb2[:,:,1] = changetoarray2 + gnum\n",
      "            converttorgb2[:,:,2] = changetoarray2 + bnum\n",
      "            Im4 = Image.fromarray(converttorgb2)\n",
      "            Im4.save(\"image_addsubtract_red\"+str(rnum)+\"_green\"+str(gnum)+\"_blue\"+str(bnum)+\"_grayscale_server.jpg\")\n",
      "            changebacktolist2 = converttorgb2.tolist()\n",
      "        return changebacktolist2\n",
      "            \n",
      "    def remove_channel(self, lst3, l3, h3, d3, chan):\n",
      "        changetoarray3 = np.array(lst3, dtype=uint8)\n",
      "        Im5 = Image.fromarray(changetoarray3)\n",
      "        Im5.save(\"image_original_received_server.jpg\")\n",
      "        if d3 == 3: #rgb image\n",
      "            if chan == 'red':\n",
      "                changetoarray3[:,:,0] = 0\n",
      "            elif chan == 'green':\n",
      "                changetoarray3[:,:,1] = 0\n",
      "            elif chan == 'blue':\n",
      "                changetoarray3[:,:,2] = 0\n",
      "            Im6 = Image.fromarray(changetoarray3)\n",
      "            Im6.save(\"image_remove_channel_\"+chan+\"_server.jpg\")\n",
      "            changebacktolist3 = changetoarray3.tolist()\n",
      "        #return changebacktolist3\n",
      "        elif d3 == 1: #grayscale image\n",
      "            converttorgb3 = np.zeros((l3,h3,3),dtype=uint8)\n",
      "            converttorgb3[:,:,0] = changetoarray3\n",
      "            converttorgb3[:,:,1] = changetoarray3\n",
      "            converttorgb3[:,:,2] = changetoarray3\n",
      "            if chan == 'red':\n",
      "                converttorgb3[:,:,0] = 0\n",
      "            elif chan == 'green':\n",
      "                converttorgb3[:,:,1] = 0\n",
      "            elif chan == 'blue':\n",
      "                converttorgb3[:,:,2] = 0\n",
      "            Imf = Image.fromarray(converttorgb3)\n",
      "            Imf.save(\"image_switchedchannels_server.jpg\")\n",
      "            changebacktolist3 = converttorgb3.tolist()\n",
      "        return changebacktolist3\n",
      "            \n",
      "host, port = \"\", 5021\n",
      "server = SimpleXMLRPCServer.SimpleXMLRPCServer((host, port), allow_none=True)\n",
      "server.register_instance(Image_Manipulation())\n",
      "server.register_multicall_functions()\n",
      "server.register_introspection_functions()\n",
      "print \"XMLRPC Server is starting at:\", host, port\n",
      "server.serve_forever()"
     ],
     "language": "python",
     "metadata": {},
     "outputs": [
      {
       "output_type": "stream",
       "stream": "stdout",
       "text": [
        "\n",
        "Welcome to pylab, a matplotlib-based Python environment [backend: module://IPython.zmq.pylab.backend_inline].\n",
        "For more information, type 'help(pylab)'.\n"
       ]
      },
      {
       "output_type": "stream",
       "stream": "stderr",
       "text": [
        "127.0.0.1 - - [09/Oct/2013 04:26:05] \"POST /RPC2 HTTP/1.1\" 200 -\n",
        "127.0.0.1 - - [09/Oct/2013 04:26:21] \"POST /RPC2 HTTP/1.1\" 200 -\n"
       ]
      },
      {
       "output_type": "stream",
       "stream": "stderr",
       "text": [
        "127.0.0.1 - - [09/Oct/2013 04:26:51] \"POST /RPC2 HTTP/1.1\" 200 -\n",
        "127.0.0.1 - - [09/Oct/2013 04:27:22] \"POST /RPC2 HTTP/1.1\" 200 -\n"
       ]
      },
      {
       "ename": "KeyboardInterrupt",
       "evalue": "",
       "output_type": "pyerr",
       "traceback": [
        "\u001b[0;31m---------------------------------------------------------------------------\u001b[0m\n\u001b[0;31mKeyboardInterrupt\u001b[0m                         Traceback (most recent call last)",
        "\u001b[0;32m<ipython-input-1-b3269cf50d0c>\u001b[0m in \u001b[0;36m<module>\u001b[0;34m()\u001b[0m\n\u001b[1;32m     91\u001b[0m \u001b[0mserver\u001b[0m\u001b[0;34m.\u001b[0m\u001b[0mregister_introspection_functions\u001b[0m\u001b[0;34m(\u001b[0m\u001b[0;34m)\u001b[0m\u001b[0;34m\u001b[0m\u001b[0m\n\u001b[1;32m     92\u001b[0m \u001b[0;32mprint\u001b[0m \u001b[0;34m\"XMLRPC Server is starting at:\"\u001b[0m\u001b[0;34m,\u001b[0m \u001b[0mhost\u001b[0m\u001b[0;34m,\u001b[0m \u001b[0mport\u001b[0m\u001b[0;34m\u001b[0m\u001b[0m\n\u001b[0;32m---> 93\u001b[0;31m \u001b[0mserver\u001b[0m\u001b[0;34m.\u001b[0m\u001b[0mserve_forever\u001b[0m\u001b[0;34m(\u001b[0m\u001b[0;34m)\u001b[0m\u001b[0;34m\u001b[0m\u001b[0m\n\u001b[0m",
        "\u001b[0;32m/Users/Francine/anaconda/lib/python2.7/SocketServer.pyc\u001b[0m in \u001b[0;36mserve_forever\u001b[0;34m(self, poll_interval)\u001b[0m\n\u001b[1;32m    234\u001b[0m                 \u001b[0;31m# shutdown request and wastes cpu at all other times.\u001b[0m\u001b[0;34m\u001b[0m\u001b[0;34m\u001b[0m\u001b[0m\n\u001b[1;32m    235\u001b[0m                 r, w, e = _eintr_retry(select.select, [self], [], [],\n\u001b[0;32m--> 236\u001b[0;31m                                        poll_interval)\n\u001b[0m\u001b[1;32m    237\u001b[0m                 \u001b[0;32mif\u001b[0m \u001b[0mself\u001b[0m \u001b[0;32min\u001b[0m \u001b[0mr\u001b[0m\u001b[0;34m:\u001b[0m\u001b[0;34m\u001b[0m\u001b[0m\n\u001b[1;32m    238\u001b[0m                     \u001b[0mself\u001b[0m\u001b[0;34m.\u001b[0m\u001b[0m_handle_request_noblock\u001b[0m\u001b[0;34m(\u001b[0m\u001b[0;34m)\u001b[0m\u001b[0;34m\u001b[0m\u001b[0m\n",
        "\u001b[0;32m/Users/Francine/anaconda/lib/python2.7/SocketServer.pyc\u001b[0m in \u001b[0;36m_eintr_retry\u001b[0;34m(func, *args)\u001b[0m\n\u001b[1;32m    153\u001b[0m     \u001b[0;32mwhile\u001b[0m \u001b[0mTrue\u001b[0m\u001b[0;34m:\u001b[0m\u001b[0;34m\u001b[0m\u001b[0m\n\u001b[1;32m    154\u001b[0m         \u001b[0;32mtry\u001b[0m\u001b[0;34m:\u001b[0m\u001b[0;34m\u001b[0m\u001b[0m\n\u001b[0;32m--> 155\u001b[0;31m             \u001b[0;32mreturn\u001b[0m \u001b[0mfunc\u001b[0m\u001b[0;34m(\u001b[0m\u001b[0;34m*\u001b[0m\u001b[0margs\u001b[0m\u001b[0;34m)\u001b[0m\u001b[0;34m\u001b[0m\u001b[0m\n\u001b[0m\u001b[1;32m    156\u001b[0m         \u001b[0;32mexcept\u001b[0m \u001b[0;34m(\u001b[0m\u001b[0mOSError\u001b[0m\u001b[0;34m,\u001b[0m \u001b[0mselect\u001b[0m\u001b[0;34m.\u001b[0m\u001b[0merror\u001b[0m\u001b[0;34m)\u001b[0m \u001b[0;32mas\u001b[0m \u001b[0me\u001b[0m\u001b[0;34m:\u001b[0m\u001b[0;34m\u001b[0m\u001b[0m\n\u001b[1;32m    157\u001b[0m             \u001b[0;32mif\u001b[0m \u001b[0me\u001b[0m\u001b[0;34m.\u001b[0m\u001b[0margs\u001b[0m\u001b[0;34m[\u001b[0m\u001b[0;36m0\u001b[0m\u001b[0;34m]\u001b[0m \u001b[0;34m!=\u001b[0m \u001b[0merrno\u001b[0m\u001b[0;34m.\u001b[0m\u001b[0mEINTR\u001b[0m\u001b[0;34m:\u001b[0m\u001b[0;34m\u001b[0m\u001b[0m\n",
        "\u001b[0;31mKeyboardInterrupt\u001b[0m: "
       ]
      },
      {
       "output_type": "stream",
       "stream": "stdout",
       "text": [
        "XMLRPC Server is starting at:  5021\n"
       ]
      }
     ],
     "prompt_number": 1
    },
    {
     "cell_type": "code",
     "collapsed": false,
     "input": [],
     "language": "python",
     "metadata": {},
     "outputs": []
    }
   ],
   "metadata": {}
  }
 ]
}